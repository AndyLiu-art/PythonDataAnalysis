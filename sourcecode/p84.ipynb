{
 "cells": [
  {
   "cell_type": "markdown",
   "id": "5410901f-f163-468b-bda2-7b6f42f6978c",
   "metadata": {},
   "source": [
    "### 各类绘图对缺失值的处理方式如下"
   ]
  },
  {
   "cell_type": "markdown",
   "id": "70b1ca86-2084-4876-9256-294a3f422482",
   "metadata": {},
   "source": [
    "| Plot Type   | NaN Handling |\n",
    "| ----------- | ----------- |\n",
    "|Line| Leave gaps at NaNs|\n",
    "|Line| (stacked) Fill 0’s|\n",
    "|Bar |Fill 0’s|\n",
    "|Scatter |Drop NaNs|\n",
    "|Histogram| Drop NaNs (column-wise)|\n",
    "|Box |Drop NaNs (column-wise)|\n",
    "|Area |Fill 0’s|\n",
    "|KDE |Drop NaNs (column-wise)|\n",
    "|Hexbin| Drop NaNs|\n",
    "|Pie| Fill 0’s|"
   ]
  }
 ],
 "metadata": {
  "kernelspec": {
   "display_name": "Python 3 (ipykernel)",
   "language": "python",
   "name": "python3"
  },
  "language_info": {
   "codemirror_mode": {
    "name": "ipython",
    "version": 3
   },
   "file_extension": ".py",
   "mimetype": "text/x-python",
   "name": "python",
   "nbconvert_exporter": "python",
   "pygments_lexer": "ipython3",
   "version": "3.10.10"
  }
 },
 "nbformat": 4,
 "nbformat_minor": 5
}
