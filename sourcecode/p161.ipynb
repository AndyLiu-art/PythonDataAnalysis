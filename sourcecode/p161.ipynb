{
 "cells": [
  {
   "cell_type": "markdown",
   "id": "76b4d361-06a0-4693-9b67-f764d7e7c528",
   "metadata": {},
   "source": [
    "### 生成一个时间戳序列(date_range)"
   ]
  },
  {
   "cell_type": "code",
   "execution_count": 1,
   "id": "1848880b-5271-427d-ad35-88b4b6a70479",
   "metadata": {
    "tags": []
   },
   "outputs": [],
   "source": [
    "import numpy as np\n",
    "import pandas as pd"
   ]
  },
  {
   "cell_type": "code",
   "execution_count": 2,
   "id": "0c43438f-ab49-40da-85ff-f592a3b28ce9",
   "metadata": {
    "tags": []
   },
   "outputs": [
    {
     "data": {
      "text/plain": [
       "DatetimeIndex(['2011-01-01', '2011-01-02', '2011-01-03', '2011-01-04',\n",
       "               '2011-01-05', '2011-01-06', '2011-01-07', '2011-01-08',\n",
       "               '2011-01-09', '2011-01-10',\n",
       "               ...\n",
       "               '2011-12-23', '2011-12-24', '2011-12-25', '2011-12-26',\n",
       "               '2011-12-27', '2011-12-28', '2011-12-29', '2011-12-30',\n",
       "               '2011-12-31', '2012-01-01'],\n",
       "              dtype='datetime64[ns]', length=366, freq='D')"
      ]
     },
     "execution_count": 2,
     "metadata": {},
     "output_type": "execute_result"
    }
   ],
   "source": [
    "import datetime\n",
    "start = datetime.datetime(2011, 1, 1)\n",
    "end = datetime.datetime(2012, 1, 1)\n",
    "index = pd.date_range(start, end)\n",
    "index"
   ]
  },
  {
   "cell_type": "code",
   "execution_count": 3,
   "id": "ad4a0501-814f-4ada-b00f-4aca410b438d",
   "metadata": {
    "tags": []
   },
   "outputs": [
    {
     "data": {
      "text/plain": [
       "DatetimeIndex(['2011-01-03', '2011-01-04', '2011-01-05', '2011-01-06',\n",
       "               '2011-01-07', '2011-01-10', '2011-01-11', '2011-01-12',\n",
       "               '2011-01-13', '2011-01-14',\n",
       "               ...\n",
       "               '2011-12-19', '2011-12-20', '2011-12-21', '2011-12-22',\n",
       "               '2011-12-23', '2011-12-26', '2011-12-27', '2011-12-28',\n",
       "               '2011-12-29', '2011-12-30'],\n",
       "              dtype='datetime64[ns]', length=260, freq='B')"
      ]
     },
     "execution_count": 3,
     "metadata": {},
     "output_type": "execute_result"
    }
   ],
   "source": [
    "# 工作日时间\n",
    "index = pd.bdate_range(start, end)\n",
    "index"
   ]
  },
  {
   "cell_type": "code",
   "execution_count": 4,
   "id": "e03a1d18-ccfd-4cf4-976d-2efc16405e11",
   "metadata": {
    "tags": []
   },
   "outputs": [
    {
     "data": {
      "text/plain": [
       "DatetimeIndex(['2011-01-31', '2011-02-28', '2011-03-31', '2011-04-30',\n",
       "               '2011-05-31', '2011-06-30', '2011-07-31', '2011-08-31',\n",
       "               '2011-09-30', '2011-10-31',\n",
       "               ...\n",
       "               '2093-07-31', '2093-08-31', '2093-09-30', '2093-10-31',\n",
       "               '2093-11-30', '2093-12-31', '2094-01-31', '2094-02-28',\n",
       "               '2094-03-31', '2094-04-30'],\n",
       "              dtype='datetime64[ns]', length=1000, freq='M')"
      ]
     },
     "execution_count": 4,
     "metadata": {},
     "output_type": "execute_result"
    }
   ],
   "source": [
    "# 月份为间隔\n",
    "pd.date_range(start, periods=1000, freq=\"M\")"
   ]
  },
  {
   "cell_type": "code",
   "execution_count": 5,
   "id": "ff28fea8-8c1e-437e-ae2a-456d8febfb9e",
   "metadata": {
    "tags": []
   },
   "outputs": [
    {
     "data": {
      "text/plain": [
       "DatetimeIndex(['2011-01-03', '2011-04-01', '2011-07-01', '2011-10-03',\n",
       "               '2012-01-02', '2012-04-02', '2012-07-02', '2012-10-01',\n",
       "               '2013-01-01', '2013-04-01',\n",
       "               ...\n",
       "               '2071-01-01', '2071-04-01', '2071-07-01', '2071-10-01',\n",
       "               '2072-01-01', '2072-04-01', '2072-07-01', '2072-10-03',\n",
       "               '2073-01-02', '2073-04-03'],\n",
       "              dtype='datetime64[ns]', length=250, freq='BQS-JAN')"
      ]
     },
     "execution_count": 5,
     "metadata": {},
     "output_type": "execute_result"
    }
   ],
   "source": [
    "# 季节为间隔，工作日\n",
    "pd.bdate_range(start, periods=250, freq=\"BQS\")"
   ]
  },
  {
   "cell_type": "code",
   "execution_count": 6,
   "id": "fa075d87-5ccd-440f-b6ff-b21f99baee07",
   "metadata": {
    "tags": []
   },
   "outputs": [
    {
     "data": {
      "text/plain": [
       "DatetimeIndex(['2011-01-31', '2011-02-28', '2011-03-31', '2011-04-29',\n",
       "               '2011-05-31', '2011-06-30', '2011-07-29', '2011-08-31',\n",
       "               '2011-09-30', '2011-10-31', '2011-11-30', '2011-12-30'],\n",
       "              dtype='datetime64[ns]', freq='BM')"
      ]
     },
     "execution_count": 6,
     "metadata": {},
     "output_type": "execute_result"
    }
   ],
   "source": [
    "# 月份间隔\n",
    "pd.date_range(start, end, freq=\"BM\")"
   ]
  },
  {
   "cell_type": "code",
   "execution_count": 7,
   "id": "765d61ae-1b83-477b-bc65-dc0e96b6f097",
   "metadata": {
    "tags": []
   },
   "outputs": [
    {
     "data": {
      "text/plain": [
       "DatetimeIndex(['2011-01-02', '2011-01-09', '2011-01-16', '2011-01-23',\n",
       "               '2011-01-30', '2011-02-06', '2011-02-13', '2011-02-20',\n",
       "               '2011-02-27', '2011-03-06', '2011-03-13', '2011-03-20',\n",
       "               '2011-03-27', '2011-04-03', '2011-04-10', '2011-04-17',\n",
       "               '2011-04-24', '2011-05-01', '2011-05-08', '2011-05-15',\n",
       "               '2011-05-22', '2011-05-29', '2011-06-05', '2011-06-12',\n",
       "               '2011-06-19', '2011-06-26', '2011-07-03', '2011-07-10',\n",
       "               '2011-07-17', '2011-07-24', '2011-07-31', '2011-08-07',\n",
       "               '2011-08-14', '2011-08-21', '2011-08-28', '2011-09-04',\n",
       "               '2011-09-11', '2011-09-18', '2011-09-25', '2011-10-02',\n",
       "               '2011-10-09', '2011-10-16', '2011-10-23', '2011-10-30',\n",
       "               '2011-11-06', '2011-11-13', '2011-11-20', '2011-11-27',\n",
       "               '2011-12-04', '2011-12-11', '2011-12-18', '2011-12-25',\n",
       "               '2012-01-01'],\n",
       "              dtype='datetime64[ns]', freq='W-SUN')"
      ]
     },
     "execution_count": 7,
     "metadata": {},
     "output_type": "execute_result"
    }
   ],
   "source": [
    "# 星期为间隔\n",
    "pd.date_range(start, end, freq=\"W\")"
   ]
  },
  {
   "cell_type": "code",
   "execution_count": 8,
   "id": "f200185a-1cd9-4d04-8fd8-27b2bc08a798",
   "metadata": {
    "tags": []
   },
   "outputs": [
    {
     "data": {
      "text/plain": [
       "DatetimeIndex(['2011-12-05', '2011-12-06', '2011-12-07', '2011-12-08',\n",
       "               '2011-12-09', '2011-12-12', '2011-12-13', '2011-12-14',\n",
       "               '2011-12-15', '2011-12-16', '2011-12-19', '2011-12-20',\n",
       "               '2011-12-21', '2011-12-22', '2011-12-23', '2011-12-26',\n",
       "               '2011-12-27', '2011-12-28', '2011-12-29', '2011-12-30'],\n",
       "              dtype='datetime64[ns]', freq='B')"
      ]
     },
     "execution_count": 8,
     "metadata": {},
     "output_type": "execute_result"
    }
   ],
   "source": [
    "# 指定序列的长度，从结尾日期开始\n",
    "pd.bdate_range(end=end, periods=20)"
   ]
  },
  {
   "cell_type": "code",
   "execution_count": 9,
   "id": "b56cd179-1122-4ede-a4f7-c50d85929e08",
   "metadata": {
    "tags": []
   },
   "outputs": [
    {
     "data": {
      "text/plain": [
       "DatetimeIndex(['2011-01-03', '2011-01-04', '2011-01-05', '2011-01-06',\n",
       "               '2011-01-07', '2011-01-10', '2011-01-11', '2011-01-12',\n",
       "               '2011-01-13', '2011-01-14', '2011-01-17', '2011-01-18',\n",
       "               '2011-01-19', '2011-01-20', '2011-01-21', '2011-01-24',\n",
       "               '2011-01-25', '2011-01-26', '2011-01-27', '2011-01-28'],\n",
       "              dtype='datetime64[ns]', freq='B')"
      ]
     },
     "execution_count": 9,
     "metadata": {},
     "output_type": "execute_result"
    }
   ],
   "source": [
    "# 指定序列的长度，从开始日期开始\n",
    "pd.bdate_range(start=start, periods=20)"
   ]
  },
  {
   "cell_type": "code",
   "execution_count": 10,
   "id": "ced2ca50-2691-4c66-b30f-facbc9dfe825",
   "metadata": {
    "tags": []
   },
   "outputs": [
    {
     "data": {
      "text/plain": [
       "DatetimeIndex(['2018-01-01', '2018-01-02', '2018-01-03', '2018-01-04',\n",
       "               '2018-01-05'],\n",
       "              dtype='datetime64[ns]', freq=None)"
      ]
     },
     "execution_count": 10,
     "metadata": {},
     "output_type": "execute_result"
    }
   ],
   "source": [
    "# 字符串日期指定起始\n",
    "pd.date_range(\"2018-01-01\", \"2018-01-05\", periods=5)"
   ]
  },
  {
   "cell_type": "code",
   "execution_count": 11,
   "id": "d2e4034d-8850-46df-8046-3315a0dcabff",
   "metadata": {
    "tags": []
   },
   "outputs": [
    {
     "data": {
      "text/plain": [
       "DatetimeIndex(['2018-01-01 00:00:00', '2018-01-01 10:40:00',\n",
       "               '2018-01-01 21:20:00', '2018-01-02 08:00:00',\n",
       "               '2018-01-02 18:40:00', '2018-01-03 05:20:00',\n",
       "               '2018-01-03 16:00:00', '2018-01-04 02:40:00',\n",
       "               '2018-01-04 13:20:00', '2018-01-05 00:00:00'],\n",
       "              dtype='datetime64[ns]', freq=None)"
      ]
     },
     "execution_count": 11,
     "metadata": {},
     "output_type": "execute_result"
    }
   ],
   "source": [
    "pd.date_range(\"2018-01-01\", \"2018-01-05\", periods=10)"
   ]
  }
 ],
 "metadata": {
  "kernelspec": {
   "display_name": "Python 3 (ipykernel)",
   "language": "python",
   "name": "python3"
  },
  "language_info": {
   "codemirror_mode": {
    "name": "ipython",
    "version": 3
   },
   "file_extension": ".py",
   "mimetype": "text/x-python",
   "name": "python",
   "nbconvert_exporter": "python",
   "pygments_lexer": "ipython3",
   "version": "3.10.10"
  }
 },
 "nbformat": 4,
 "nbformat_minor": 5
}
