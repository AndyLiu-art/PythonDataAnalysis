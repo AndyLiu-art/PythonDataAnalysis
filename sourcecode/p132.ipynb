{
 "cells": [
  {
   "cell_type": "markdown",
   "id": "dbf04ba3-ba31-45e3-ba2a-6bad04f43615",
   "metadata": {},
   "source": [
    "### 分组计算每一列的多个统计量（同时计算）"
   ]
  },
  {
   "cell_type": "code",
   "execution_count": 1,
   "id": "b410b697-7603-40fd-92f8-4ded1111a414",
   "metadata": {
    "tags": []
   },
   "outputs": [],
   "source": [
    "# 导入基础计算库\n",
    "import numpy as np\n",
    "# 导入数据分析库\n",
    "import pandas as pd\n",
    "# 导入matplotlib包\n",
    "import matplotlib as mpl"
   ]
  },
  {
   "cell_type": "code",
   "execution_count": 2,
   "id": "a443e967-a9ae-4f3a-bde8-e1afb41bc030",
   "metadata": {
    "tags": []
   },
   "outputs": [
    {
     "data": {
      "text/html": [
       "<div>\n",
       "<style scoped>\n",
       "    .dataframe tbody tr th:only-of-type {\n",
       "        vertical-align: middle;\n",
       "    }\n",
       "\n",
       "    .dataframe tbody tr th {\n",
       "        vertical-align: top;\n",
       "    }\n",
       "\n",
       "    .dataframe thead th {\n",
       "        text-align: right;\n",
       "    }\n",
       "</style>\n",
       "<table border=\"1\" class=\"dataframe\">\n",
       "  <thead>\n",
       "    <tr style=\"text-align: right;\">\n",
       "      <th></th>\n",
       "      <th>A</th>\n",
       "      <th>B</th>\n",
       "      <th>C</th>\n",
       "      <th>D</th>\n",
       "    </tr>\n",
       "  </thead>\n",
       "  <tbody>\n",
       "    <tr>\n",
       "      <th>0</th>\n",
       "      <td>foo</td>\n",
       "      <td>one</td>\n",
       "      <td>1.624345</td>\n",
       "      <td>0.319039</td>\n",
       "    </tr>\n",
       "    <tr>\n",
       "      <th>1</th>\n",
       "      <td>bar</td>\n",
       "      <td>one</td>\n",
       "      <td>-0.611756</td>\n",
       "      <td>-0.249370</td>\n",
       "    </tr>\n",
       "    <tr>\n",
       "      <th>2</th>\n",
       "      <td>foo</td>\n",
       "      <td>two</td>\n",
       "      <td>-0.528172</td>\n",
       "      <td>1.462108</td>\n",
       "    </tr>\n",
       "    <tr>\n",
       "      <th>3</th>\n",
       "      <td>bar</td>\n",
       "      <td>three</td>\n",
       "      <td>-1.072969</td>\n",
       "      <td>-2.060141</td>\n",
       "    </tr>\n",
       "    <tr>\n",
       "      <th>4</th>\n",
       "      <td>foo</td>\n",
       "      <td>two</td>\n",
       "      <td>0.865408</td>\n",
       "      <td>-0.322417</td>\n",
       "    </tr>\n",
       "    <tr>\n",
       "      <th>5</th>\n",
       "      <td>bar</td>\n",
       "      <td>two</td>\n",
       "      <td>-2.301539</td>\n",
       "      <td>-0.384054</td>\n",
       "    </tr>\n",
       "    <tr>\n",
       "      <th>6</th>\n",
       "      <td>foo</td>\n",
       "      <td>one</td>\n",
       "      <td>1.744812</td>\n",
       "      <td>1.133769</td>\n",
       "    </tr>\n",
       "    <tr>\n",
       "      <th>7</th>\n",
       "      <td>foo</td>\n",
       "      <td>three</td>\n",
       "      <td>-0.761207</td>\n",
       "      <td>-1.099891</td>\n",
       "    </tr>\n",
       "  </tbody>\n",
       "</table>\n",
       "</div>"
      ],
      "text/plain": [
       "     A      B         C         D\n",
       "0  foo    one  1.624345  0.319039\n",
       "1  bar    one -0.611756 -0.249370\n",
       "2  foo    two -0.528172  1.462108\n",
       "3  bar  three -1.072969 -2.060141\n",
       "4  foo    two  0.865408 -0.322417\n",
       "5  bar    two -2.301539 -0.384054\n",
       "6  foo    one  1.744812  1.133769\n",
       "7  foo  three -0.761207 -1.099891"
      ]
     },
     "execution_count": 2,
     "metadata": {},
     "output_type": "execute_result"
    }
   ],
   "source": [
    "# 设置随机数种子\n",
    "np.random.seed(1)\n",
    "# 生成数据\n",
    "df = pd.DataFrame(\n",
    "    {\n",
    "        \"A\": [\"foo\", \"bar\", \"foo\", \"bar\", \"foo\", \"bar\", \"foo\", \"foo\"],\n",
    "        \"B\": [\"one\", \"one\", \"two\", \"three\", \"two\", \"two\", \"one\", \"three\"],\n",
    "        \"C\": np.random.randn(8),\n",
    "        \"D\": np.random.randn(8),\n",
    "    }\n",
    ")\n",
    "df"
   ]
  },
  {
   "cell_type": "code",
   "execution_count": 3,
   "id": "c644dbe1-6341-4ad6-af8e-9839bff126b0",
   "metadata": {
    "tags": []
   },
   "outputs": [],
   "source": [
    "# 定义计算极差的函数\n",
    "def f(x):\n",
    "    \"\"\"\n",
    "    x是Series对象\n",
    "    \"\"\"\n",
    "    res = x.max()-x.min()\n",
    "    return res"
   ]
  },
  {
   "cell_type": "code",
   "execution_count": 4,
   "id": "be445d05-2a07-46f5-9cc9-486d9713449f",
   "metadata": {
    "tags": []
   },
   "outputs": [
    {
     "data": {
      "text/html": [
       "<div>\n",
       "<style scoped>\n",
       "    .dataframe tbody tr th:only-of-type {\n",
       "        vertical-align: middle;\n",
       "    }\n",
       "\n",
       "    .dataframe tbody tr th {\n",
       "        vertical-align: top;\n",
       "    }\n",
       "\n",
       "    .dataframe thead tr th {\n",
       "        text-align: left;\n",
       "    }\n",
       "\n",
       "    .dataframe thead tr:last-of-type th {\n",
       "        text-align: right;\n",
       "    }\n",
       "</style>\n",
       "<table border=\"1\" class=\"dataframe\">\n",
       "  <thead>\n",
       "    <tr>\n",
       "      <th></th>\n",
       "      <th colspan=\"4\" halign=\"left\">C</th>\n",
       "      <th colspan=\"4\" halign=\"left\">D</th>\n",
       "    </tr>\n",
       "    <tr>\n",
       "      <th></th>\n",
       "      <th>f</th>\n",
       "      <th>mean</th>\n",
       "      <th>max</th>\n",
       "      <th>var</th>\n",
       "      <th>f</th>\n",
       "      <th>mean</th>\n",
       "      <th>max</th>\n",
       "      <th>var</th>\n",
       "    </tr>\n",
       "    <tr>\n",
       "      <th>A</th>\n",
       "      <th></th>\n",
       "      <th></th>\n",
       "      <th></th>\n",
       "      <th></th>\n",
       "      <th></th>\n",
       "      <th></th>\n",
       "      <th></th>\n",
       "      <th></th>\n",
       "    </tr>\n",
       "  </thead>\n",
       "  <tbody>\n",
       "    <tr>\n",
       "      <th>bar</th>\n",
       "      <td>1.689782</td>\n",
       "      <td>-1.328755</td>\n",
       "      <td>-0.611756</td>\n",
       "      <td>0.762911</td>\n",
       "      <td>1.810770</td>\n",
       "      <td>-0.897855</td>\n",
       "      <td>-0.249370</td>\n",
       "      <td>1.017716</td>\n",
       "    </tr>\n",
       "    <tr>\n",
       "      <th>foo</th>\n",
       "      <td>2.506019</td>\n",
       "      <td>0.589037</td>\n",
       "      <td>1.744812</td>\n",
       "      <td>1.388843</td>\n",
       "      <td>2.561999</td>\n",
       "      <td>0.298522</td>\n",
       "      <td>1.462108</td>\n",
       "      <td>1.098279</td>\n",
       "    </tr>\n",
       "  </tbody>\n",
       "</table>\n",
       "</div>"
      ],
      "text/plain": [
       "            C                                       D                      \\\n",
       "            f      mean       max       var         f      mean       max   \n",
       "A                                                                           \n",
       "bar  1.689782 -1.328755 -0.611756  0.762911  1.810770 -0.897855 -0.249370   \n",
       "foo  2.506019  0.589037  1.744812  1.388843  2.561999  0.298522  1.462108   \n",
       "\n",
       "               \n",
       "          var  \n",
       "A              \n",
       "bar  1.017716  \n",
       "foo  1.098279  "
      ]
     },
     "execution_count": 4,
     "metadata": {},
     "output_type": "execute_result"
    }
   ],
   "source": [
    "# 以A分组\n",
    "grouped = df.groupby(\"A\")\n",
    "# 对C D求最大值的下标\n",
    "grouped[[\"C\", \"D\"]].aggregate([f, \"mean\", \"max\", \"var\"])"
   ]
  }
 ],
 "metadata": {
  "kernelspec": {
   "display_name": "Python 3 (ipykernel)",
   "language": "python",
   "name": "python3"
  },
  "language_info": {
   "codemirror_mode": {
    "name": "ipython",
    "version": 3
   },
   "file_extension": ".py",
   "mimetype": "text/x-python",
   "name": "python",
   "nbconvert_exporter": "python",
   "pygments_lexer": "ipython3",
   "version": "3.10.10"
  }
 },
 "nbformat": 4,
 "nbformat_minor": 5
}
