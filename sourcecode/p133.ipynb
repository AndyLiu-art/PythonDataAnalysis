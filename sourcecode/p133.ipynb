{
 "cells": [
  {
   "cell_type": "markdown",
   "id": "c41692e5-815e-4158-81ef-a5119ecf4e61",
   "metadata": {},
   "source": [
    "### 分组计算每一列的多个统计量（同时计算，修改Agg的函数名）"
   ]
  },
  {
   "cell_type": "code",
   "execution_count": 1,
   "id": "9682c2cb-1c32-4d4b-8d6c-817685b8e7f6",
   "metadata": {
    "tags": []
   },
   "outputs": [],
   "source": [
    "# 导入基础计算库\n",
    "import numpy as np\n",
    "# 导入数据分析库\n",
    "import pandas as pd\n",
    "# 导入matplotlib包\n",
    "import matplotlib as mpl"
   ]
  },
  {
   "cell_type": "code",
   "execution_count": 2,
   "id": "21be9581-1879-4708-9540-3c1fa3fc44a8",
   "metadata": {
    "tags": []
   },
   "outputs": [
    {
     "data": {
      "text/html": [
       "<div>\n",
       "<style scoped>\n",
       "    .dataframe tbody tr th:only-of-type {\n",
       "        vertical-align: middle;\n",
       "    }\n",
       "\n",
       "    .dataframe tbody tr th {\n",
       "        vertical-align: top;\n",
       "    }\n",
       "\n",
       "    .dataframe thead th {\n",
       "        text-align: right;\n",
       "    }\n",
       "</style>\n",
       "<table border=\"1\" class=\"dataframe\">\n",
       "  <thead>\n",
       "    <tr style=\"text-align: right;\">\n",
       "      <th></th>\n",
       "      <th>A</th>\n",
       "      <th>B</th>\n",
       "      <th>C</th>\n",
       "      <th>D</th>\n",
       "    </tr>\n",
       "  </thead>\n",
       "  <tbody>\n",
       "    <tr>\n",
       "      <th>0</th>\n",
       "      <td>foo</td>\n",
       "      <td>one</td>\n",
       "      <td>1.624345</td>\n",
       "      <td>0.319039</td>\n",
       "    </tr>\n",
       "    <tr>\n",
       "      <th>1</th>\n",
       "      <td>bar</td>\n",
       "      <td>one</td>\n",
       "      <td>-0.611756</td>\n",
       "      <td>-0.249370</td>\n",
       "    </tr>\n",
       "    <tr>\n",
       "      <th>2</th>\n",
       "      <td>foo</td>\n",
       "      <td>two</td>\n",
       "      <td>-0.528172</td>\n",
       "      <td>1.462108</td>\n",
       "    </tr>\n",
       "    <tr>\n",
       "      <th>3</th>\n",
       "      <td>bar</td>\n",
       "      <td>three</td>\n",
       "      <td>-1.072969</td>\n",
       "      <td>-2.060141</td>\n",
       "    </tr>\n",
       "    <tr>\n",
       "      <th>4</th>\n",
       "      <td>foo</td>\n",
       "      <td>two</td>\n",
       "      <td>0.865408</td>\n",
       "      <td>-0.322417</td>\n",
       "    </tr>\n",
       "    <tr>\n",
       "      <th>5</th>\n",
       "      <td>bar</td>\n",
       "      <td>two</td>\n",
       "      <td>-2.301539</td>\n",
       "      <td>-0.384054</td>\n",
       "    </tr>\n",
       "    <tr>\n",
       "      <th>6</th>\n",
       "      <td>foo</td>\n",
       "      <td>one</td>\n",
       "      <td>1.744812</td>\n",
       "      <td>1.133769</td>\n",
       "    </tr>\n",
       "    <tr>\n",
       "      <th>7</th>\n",
       "      <td>foo</td>\n",
       "      <td>three</td>\n",
       "      <td>-0.761207</td>\n",
       "      <td>-1.099891</td>\n",
       "    </tr>\n",
       "  </tbody>\n",
       "</table>\n",
       "</div>"
      ],
      "text/plain": [
       "     A      B         C         D\n",
       "0  foo    one  1.624345  0.319039\n",
       "1  bar    one -0.611756 -0.249370\n",
       "2  foo    two -0.528172  1.462108\n",
       "3  bar  three -1.072969 -2.060141\n",
       "4  foo    two  0.865408 -0.322417\n",
       "5  bar    two -2.301539 -0.384054\n",
       "6  foo    one  1.744812  1.133769\n",
       "7  foo  three -0.761207 -1.099891"
      ]
     },
     "execution_count": 2,
     "metadata": {},
     "output_type": "execute_result"
    }
   ],
   "source": [
    "# 设置随机数种子\n",
    "np.random.seed(1)\n",
    "# 生成数据\n",
    "df = pd.DataFrame(\n",
    "    {\n",
    "        \"A\": [\"foo\", \"bar\", \"foo\", \"bar\", \"foo\", \"bar\", \"foo\", \"foo\"],\n",
    "        \"B\": [\"one\", \"one\", \"two\", \"three\", \"two\", \"two\", \"one\", \"three\"],\n",
    "        \"C\": np.random.randn(8),\n",
    "        \"D\": np.random.randn(8),\n",
    "    }\n",
    ")\n",
    "df"
   ]
  },
  {
   "cell_type": "code",
   "execution_count": 3,
   "id": "07f121c1-8a40-48b5-9f91-86d767fd2d4c",
   "metadata": {
    "tags": []
   },
   "outputs": [],
   "source": [
    "# 定义计算极差的函数\n",
    "def f(x):\n",
    "    \"\"\"\n",
    "    x是Series对象\n",
    "    \"\"\"\n",
    "    res = x.max()-x.min()\n",
    "    return res"
   ]
  },
  {
   "cell_type": "code",
   "execution_count": 4,
   "id": "b8770dae-9392-43b5-bad0-811efb348e98",
   "metadata": {
    "tags": []
   },
   "outputs": [
    {
     "data": {
      "text/html": [
       "<div>\n",
       "<style scoped>\n",
       "    .dataframe tbody tr th:only-of-type {\n",
       "        vertical-align: middle;\n",
       "    }\n",
       "\n",
       "    .dataframe tbody tr th {\n",
       "        vertical-align: top;\n",
       "    }\n",
       "\n",
       "    .dataframe thead th {\n",
       "        text-align: right;\n",
       "    }\n",
       "</style>\n",
       "<table border=\"1\" class=\"dataframe\">\n",
       "  <thead>\n",
       "    <tr style=\"text-align: right;\">\n",
       "      <th></th>\n",
       "      <th>C列最小值</th>\n",
       "      <th>C列极差</th>\n",
       "      <th>C列平均值</th>\n",
       "      <th>D列最小值</th>\n",
       "      <th>D列极差</th>\n",
       "      <th>D列平均值</th>\n",
       "    </tr>\n",
       "    <tr>\n",
       "      <th>A</th>\n",
       "      <th></th>\n",
       "      <th></th>\n",
       "      <th></th>\n",
       "      <th></th>\n",
       "      <th></th>\n",
       "      <th></th>\n",
       "    </tr>\n",
       "  </thead>\n",
       "  <tbody>\n",
       "    <tr>\n",
       "      <th>bar</th>\n",
       "      <td>-2.301539</td>\n",
       "      <td>1.689782</td>\n",
       "      <td>-1.328755</td>\n",
       "      <td>-2.060141</td>\n",
       "      <td>1.810770</td>\n",
       "      <td>-0.897855</td>\n",
       "    </tr>\n",
       "    <tr>\n",
       "      <th>foo</th>\n",
       "      <td>-0.761207</td>\n",
       "      <td>2.506019</td>\n",
       "      <td>0.589037</td>\n",
       "      <td>-1.099891</td>\n",
       "      <td>2.561999</td>\n",
       "      <td>0.298522</td>\n",
       "    </tr>\n",
       "  </tbody>\n",
       "</table>\n",
       "</div>"
      ],
      "text/plain": [
       "        C列最小值      C列极差     C列平均值     D列最小值      D列极差     D列平均值\n",
       "A                                                              \n",
       "bar -2.301539  1.689782 -1.328755 -2.060141  1.810770 -0.897855\n",
       "foo -0.761207  2.506019  0.589037 -1.099891  2.561999  0.298522"
      ]
     },
     "execution_count": 4,
     "metadata": {},
     "output_type": "execute_result"
    }
   ],
   "source": [
    "# 以A分组\n",
    "grouped = df.groupby(\"A\")\n",
    "# 对C D求最大值的下标\n",
    "grouped.agg(\n",
    "    C列最小值=pd.NamedAgg(column=\"C\", aggfunc=\"min\"),\n",
    "    C列极差=pd.NamedAgg(column=\"C\", aggfunc=f),\n",
    "    C列平均值=pd.NamedAgg(column=\"C\", aggfunc=\"mean\"),\n",
    "    D列最小值=pd.NamedAgg(column=\"D\", aggfunc=\"min\"),\n",
    "    D列极差=pd.NamedAgg(column=\"D\", aggfunc=f),\n",
    "    D列平均值=pd.NamedAgg(column=\"D\", aggfunc=\"mean\"),\n",
    ")"
   ]
  }
 ],
 "metadata": {
  "kernelspec": {
   "display_name": "Python 3 (ipykernel)",
   "language": "python",
   "name": "python3"
  },
  "language_info": {
   "codemirror_mode": {
    "name": "ipython",
    "version": 3
   },
   "file_extension": ".py",
   "mimetype": "text/x-python",
   "name": "python",
   "nbconvert_exporter": "python",
   "pygments_lexer": "ipython3",
   "version": "3.10.10"
  }
 },
 "nbformat": 4,
 "nbformat_minor": 5
}
