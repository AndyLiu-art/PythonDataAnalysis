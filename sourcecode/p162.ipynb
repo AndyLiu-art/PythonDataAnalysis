{
 "cells": [
  {
   "cell_type": "markdown",
   "id": "474eafbb-2cb0-4943-83a5-ccf489ddf1a4",
   "metadata": {},
   "source": [
    "### 按照时间索引提取元素"
   ]
  },
  {
   "cell_type": "code",
   "execution_count": 1,
   "id": "ad896e04-0892-43c2-a56f-aabf6e40c1b3",
   "metadata": {
    "tags": []
   },
   "outputs": [],
   "source": [
    "import numpy as np\n",
    "import pandas as pd"
   ]
  },
  {
   "cell_type": "code",
   "execution_count": 2,
   "id": "ac071f6d-8ace-4491-b365-0fb9c10c5b2b",
   "metadata": {
    "tags": []
   },
   "outputs": [
    {
     "data": {
      "text/plain": [
       "DatetimeIndex(['2010-01-29', '2010-02-26', '2010-03-31', '2010-04-30',\n",
       "               '2010-05-31', '2010-06-30', '2010-07-30', '2010-08-31',\n",
       "               '2010-09-30', '2010-10-29', '2010-11-30', '2010-12-31',\n",
       "               '2011-01-31', '2011-02-28', '2011-03-31', '2011-04-29',\n",
       "               '2011-05-31', '2011-06-30', '2011-07-29', '2011-08-31',\n",
       "               '2011-09-30', '2011-10-31', '2011-11-30', '2011-12-30'],\n",
       "              dtype='datetime64[ns]', freq='BM')"
      ]
     },
     "execution_count": 2,
     "metadata": {},
     "output_type": "execute_result"
    }
   ],
   "source": [
    "start=\"2010-01-01\"\n",
    "end=\"2011-12-31\"\n",
    "rng = pd.date_range(start, end, freq=\"BM\")\n",
    "ts = pd.Series(np.random.randn(len(rng)), index=rng)\n",
    "ts.index"
   ]
  },
  {
   "cell_type": "code",
   "execution_count": 3,
   "id": "10ebcc76-6280-48db-8e34-9accd7c41988",
   "metadata": {
    "tags": []
   },
   "outputs": [
    {
     "data": {
      "text/plain": [
       "-0.5482838196964798"
      ]
     },
     "execution_count": 3,
     "metadata": {},
     "output_type": "execute_result"
    }
   ],
   "source": [
    "# 以字符串索引\n",
    "ts[\"1/31/2011\"]"
   ]
  },
  {
   "cell_type": "code",
   "execution_count": 4,
   "id": "468cf07f-80c6-467b-8461-47d05ec00ceb",
   "metadata": {
    "tags": []
   },
   "outputs": [
    {
     "data": {
      "text/plain": [
       "2011-12-30    0.615083\n",
       "Freq: BM, dtype: float64"
      ]
     },
     "execution_count": 4,
     "metadata": {},
     "output_type": "execute_result"
    }
   ],
   "source": [
    "import datetime\n",
    "ts[datetime.datetime(2011, 12, 25):]"
   ]
  },
  {
   "cell_type": "code",
   "execution_count": 5,
   "id": "da80ca13-7d0a-4e3d-8477-f802621fc000",
   "metadata": {
    "tags": []
   },
   "outputs": [
    {
     "data": {
      "text/plain": [
       "2011-10-31    0.094092\n",
       "2011-11-30   -1.676836\n",
       "2011-12-30    0.615083\n",
       "Freq: BM, dtype: float64"
      ]
     },
     "execution_count": 5,
     "metadata": {},
     "output_type": "execute_result"
    }
   ],
   "source": [
    "# 日期字符串切片\n",
    "ts[\"10/31/2011\":\"12/31/2011\"]"
   ]
  },
  {
   "cell_type": "code",
   "execution_count": 6,
   "id": "137a981a-6ad0-4763-9682-fef6e4d0ec2f",
   "metadata": {
    "tags": []
   },
   "outputs": [
    {
     "data": {
      "text/plain": [
       "2011-01-31   -0.548284\n",
       "2011-02-28   -1.238285\n",
       "2011-03-31   -1.445370\n",
       "2011-04-29   -1.405894\n",
       "2011-05-31   -1.149388\n",
       "2011-06-30    0.077598\n",
       "2011-07-29   -1.874590\n",
       "2011-08-31   -0.026948\n",
       "2011-09-30   -0.110488\n",
       "2011-10-31    0.094092\n",
       "2011-11-30   -1.676836\n",
       "2011-12-30    0.615083\n",
       "Freq: BM, dtype: float64"
      ]
     },
     "execution_count": 6,
     "metadata": {},
     "output_type": "execute_result"
    }
   ],
   "source": [
    "# 提取月份，2011年的所有月份\n",
    "ts[\"2011\"]"
   ]
  },
  {
   "cell_type": "code",
   "execution_count": 7,
   "id": "2a3c7678-24bb-4dce-884c-58844053c479",
   "metadata": {
    "tags": []
   },
   "outputs": [
    {
     "data": {
      "text/plain": [
       "2011-06-30    0.077598\n",
       "Freq: BM, dtype: float64"
      ]
     },
     "execution_count": 7,
     "metadata": {},
     "output_type": "execute_result"
    }
   ],
   "source": [
    "# 提取6月份的最后一天\n",
    "ts[\"2011-6\"]"
   ]
  }
 ],
 "metadata": {
  "kernelspec": {
   "display_name": "Python 3 (ipykernel)",
   "language": "python",
   "name": "python3"
  },
  "language_info": {
   "codemirror_mode": {
    "name": "ipython",
    "version": 3
   },
   "file_extension": ".py",
   "mimetype": "text/x-python",
   "name": "python",
   "nbconvert_exporter": "python",
   "pygments_lexer": "ipython3",
   "version": "3.10.10"
  }
 },
 "nbformat": 4,
 "nbformat_minor": 5
}
