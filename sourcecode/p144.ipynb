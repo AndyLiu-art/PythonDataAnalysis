{
 "cells": [
  {
   "cell_type": "markdown",
   "id": "efded795-4e26-4011-ace9-43b7c004ee7a",
   "metadata": {},
   "source": [
    "### 计算DataFrame每一行的均值，对于for循环和apply方法"
   ]
  },
  {
   "cell_type": "code",
   "execution_count": 1,
   "id": "4eedb523-4acd-4de6-b60a-51673a0b41b5",
   "metadata": {
    "tags": []
   },
   "outputs": [],
   "source": [
    "# 导入数据分析库\n",
    "import pandas as pd\n",
    "# 导入基础计算库\n",
    "import numpy as np"
   ]
  },
  {
   "cell_type": "code",
   "execution_count": 2,
   "id": "8015bdb2-f0cf-40ec-b1a6-8d7298e5a782",
   "metadata": {
    "tags": []
   },
   "outputs": [],
   "source": [
    "# 行列数\n",
    "row=20\n",
    "col=10\n",
    "np.random.seed(1)\n",
    "df = pd.DataFrame(np.random.randn(row, col))"
   ]
  },
  {
   "cell_type": "code",
   "execution_count": 3,
   "id": "77473c07-6e7a-4fef-a994-db7ba3c2ff94",
   "metadata": {
    "tags": []
   },
   "outputs": [
    {
     "name": "stdout",
     "output_type": "stream",
     "text": [
      "505 µs ± 34.3 µs per loop (mean ± std. dev. of 7 runs, 1,000 loops each)\n"
     ]
    }
   ],
   "source": [
    "%%timeit\n",
    "df.apply(\"mean\", axis=1)"
   ]
  },
  {
   "cell_type": "code",
   "execution_count": 4,
   "id": "8031c73e-fedd-4ccb-aeca-98e70584c344",
   "metadata": {
    "tags": []
   },
   "outputs": [
    {
     "name": "stdout",
     "output_type": "stream",
     "text": [
      "6.07 ms ± 609 µs per loop (mean ± std. dev. of 7 runs, 100 loops each)\n"
     ]
    }
   ],
   "source": [
    "%%timeit\n",
    "# 存储结果的列表\n",
    "lst = []\n",
    "for i in range(df.shape[0]):\n",
    "    lst.append(np.mean(df.iloc[i, :]))"
   ]
  },
  {
   "cell_type": "markdown",
   "id": "d7700f27-0635-4be0-87e2-2662cc7b9665",
   "metadata": {},
   "source": [
    "apply方法完胜for循环。"
   ]
  }
 ],
 "metadata": {
  "kernelspec": {
   "display_name": "Python 3 (ipykernel)",
   "language": "python",
   "name": "python3"
  },
  "language_info": {
   "codemirror_mode": {
    "name": "ipython",
    "version": 3
   },
   "file_extension": ".py",
   "mimetype": "text/x-python",
   "name": "python",
   "nbconvert_exporter": "python",
   "pygments_lexer": "ipython3",
   "version": "3.10.10"
  }
 },
 "nbformat": 4,
 "nbformat_minor": 5
}
