{
 "cells": [
  {
   "cell_type": "markdown",
   "id": "66536843-8302-4d1b-b71e-099a44327a6d",
   "metadata": {},
   "source": [
    "### 计算DataFrame每一行的均值，对于for循环和apply方法，改变行数"
   ]
  },
  {
   "cell_type": "code",
   "execution_count": 1,
   "id": "a1180f17-7dae-4d44-b186-bcd705a88853",
   "metadata": {
    "tags": []
   },
   "outputs": [],
   "source": [
    "# 导入数据分析库\n",
    "import pandas as pd\n",
    "# 导入基础计算库\n",
    "import numpy as np"
   ]
  },
  {
   "cell_type": "code",
   "execution_count": 2,
   "id": "2b18088e-e1ea-4047-8b3b-7cb96f8e677f",
   "metadata": {
    "tags": []
   },
   "outputs": [],
   "source": [
    "def generate_data(row, col):\n",
    "    np.random.seed(1)\n",
    "    df = pd.DataFrame(np.random.randn(row, col))\n",
    "    return df"
   ]
  },
  {
   "cell_type": "code",
   "execution_count": 3,
   "id": "43018daf-4d32-4dd2-afc4-b4fe06dd0e59",
   "metadata": {
    "tags": []
   },
   "outputs": [],
   "source": [
    "df = generate_data(20, 10)"
   ]
  },
  {
   "cell_type": "code",
   "execution_count": 4,
   "id": "6b3b5560-1134-42bd-923f-7535db010888",
   "metadata": {
    "tags": []
   },
   "outputs": [
    {
     "name": "stdout",
     "output_type": "stream",
     "text": [
      "474 µs ± 21.4 µs per loop (mean ± std. dev. of 7 runs, 1,000 loops each)\n"
     ]
    }
   ],
   "source": [
    "%%timeit\n",
    "df.apply(\"mean\", axis=1)"
   ]
  },
  {
   "cell_type": "code",
   "execution_count": 5,
   "id": "422f51e9-9b04-4f82-8774-6f4a9511cd91",
   "metadata": {
    "tags": []
   },
   "outputs": [
    {
     "name": "stdout",
     "output_type": "stream",
     "text": [
      "6.44 ms ± 538 µs per loop (mean ± std. dev. of 7 runs, 100 loops each)\n"
     ]
    }
   ],
   "source": [
    "%%timeit\n",
    "# 存储结果的列表\n",
    "lst = []\n",
    "for i in range(df.shape[0]):\n",
    "    lst.append(np.mean(df.iloc[i, :]))"
   ]
  },
  {
   "cell_type": "code",
   "execution_count": 6,
   "id": "f5b38e3a-76c3-4b85-baea-5e8e003c36a5",
   "metadata": {
    "tags": []
   },
   "outputs": [],
   "source": [
    "df = generate_data(200, 10)"
   ]
  },
  {
   "cell_type": "code",
   "execution_count": 7,
   "id": "2803a365-2bf1-4a2c-8c9a-44fa0522e6c4",
   "metadata": {
    "tags": []
   },
   "outputs": [
    {
     "name": "stdout",
     "output_type": "stream",
     "text": [
      "493 µs ± 25.5 µs per loop (mean ± std. dev. of 7 runs, 1,000 loops each)\n"
     ]
    }
   ],
   "source": [
    "%%timeit\n",
    "df.apply(\"mean\", axis=1)"
   ]
  },
  {
   "cell_type": "code",
   "execution_count": 8,
   "id": "24d0a09b-cc5d-486c-95f8-8bbbe150969f",
   "metadata": {
    "tags": []
   },
   "outputs": [
    {
     "name": "stdout",
     "output_type": "stream",
     "text": [
      "61.4 ms ± 2.09 ms per loop (mean ± std. dev. of 7 runs, 10 loops each)\n"
     ]
    }
   ],
   "source": [
    "%%timeit\n",
    "# 存储结果的列表\n",
    "lst = []\n",
    "for i in range(df.shape[0]):\n",
    "    lst.append(np.mean(df.iloc[i, :]))"
   ]
  },
  {
   "cell_type": "code",
   "execution_count": 9,
   "id": "bc9475b4-30a0-4d06-8eda-52e2281aef69",
   "metadata": {
    "tags": []
   },
   "outputs": [],
   "source": [
    "df = generate_data(2000, 10)"
   ]
  },
  {
   "cell_type": "code",
   "execution_count": 10,
   "id": "5a67d63c-0bae-4012-9e2f-7ff50e429c30",
   "metadata": {
    "tags": []
   },
   "outputs": [
    {
     "name": "stdout",
     "output_type": "stream",
     "text": [
      "756 µs ± 54.1 µs per loop (mean ± std. dev. of 7 runs, 1,000 loops each)\n"
     ]
    }
   ],
   "source": [
    "%%timeit\n",
    "df.apply(\"mean\", axis=1)"
   ]
  },
  {
   "cell_type": "code",
   "execution_count": 11,
   "id": "c081d9ed-dda3-488a-89b1-b188252170ac",
   "metadata": {
    "tags": []
   },
   "outputs": [
    {
     "name": "stdout",
     "output_type": "stream",
     "text": [
      "616 ms ± 26.3 ms per loop (mean ± std. dev. of 7 runs, 1 loop each)\n"
     ]
    }
   ],
   "source": [
    "%%timeit\n",
    "# 存储结果的列表\n",
    "lst = []\n",
    "for i in range(df.shape[0]):\n",
    "    lst.append(np.mean(df.iloc[i, :]))"
   ]
  },
  {
   "cell_type": "code",
   "execution_count": 12,
   "id": "d328b203-7b78-4464-9859-0dfca658c891",
   "metadata": {
    "tags": []
   },
   "outputs": [],
   "source": [
    "df = generate_data(20000, 10)"
   ]
  },
  {
   "cell_type": "code",
   "execution_count": 13,
   "id": "b64d22b5-e253-409f-9f85-ff9e5fdb02b5",
   "metadata": {
    "tags": []
   },
   "outputs": [
    {
     "name": "stdout",
     "output_type": "stream",
     "text": [
      "3.2 ms ± 113 µs per loop (mean ± std. dev. of 7 runs, 100 loops each)\n"
     ]
    }
   ],
   "source": [
    "%%timeit\n",
    "df.apply(\"mean\", axis=1)"
   ]
  },
  {
   "cell_type": "code",
   "execution_count": 14,
   "id": "77d0bfbc-c4fe-46f4-9e8e-f1438e3f8bc9",
   "metadata": {
    "tags": []
   },
   "outputs": [
    {
     "name": "stdout",
     "output_type": "stream",
     "text": [
      "6.24 s ± 226 ms per loop (mean ± std. dev. of 7 runs, 1 loop each)\n"
     ]
    }
   ],
   "source": [
    "%%timeit\n",
    "# 存储结果的列表\n",
    "lst = []\n",
    "for i in range(df.shape[0]):\n",
    "    lst.append(np.mean(df.iloc[i, :]))"
   ]
  },
  {
   "cell_type": "code",
   "execution_count": 15,
   "id": "47d856dc-8fcf-4bc6-90b3-10c297d9c60f",
   "metadata": {
    "tags": []
   },
   "outputs": [],
   "source": [
    "df = generate_data(200000, 10)"
   ]
  },
  {
   "cell_type": "code",
   "execution_count": 16,
   "id": "9cb8b8f0-dc51-4b86-9cce-f3b55bc67fbb",
   "metadata": {
    "tags": []
   },
   "outputs": [
    {
     "name": "stdout",
     "output_type": "stream",
     "text": [
      "33.1 ms ± 1.61 ms per loop (mean ± std. dev. of 7 runs, 10 loops each)\n"
     ]
    }
   ],
   "source": [
    "%%timeit\n",
    "df.apply(\"mean\", axis=1)"
   ]
  },
  {
   "cell_type": "code",
   "execution_count": 17,
   "id": "17607a6b-d64c-4b0a-8002-4b02b9f68d81",
   "metadata": {
    "tags": []
   },
   "outputs": [
    {
     "name": "stdout",
     "output_type": "stream",
     "text": [
      "1min 4s ± 4.6 s per loop (mean ± std. dev. of 7 runs, 1 loop each)\n"
     ]
    }
   ],
   "source": [
    "%%timeit\n",
    "# 存储结果的列表\n",
    "lst = []\n",
    "for i in range(df.shape[0]):\n",
    "    lst.append(np.mean(df.iloc[i, :]))"
   ]
  },
  {
   "cell_type": "markdown",
   "id": "3b867fe8-3ed3-4c61-876b-9a330eee3076",
   "metadata": {},
   "source": [
    "apply方法完胜for循环"
   ]
  }
 ],
 "metadata": {
  "kernelspec": {
   "display_name": "Python 3 (ipykernel)",
   "language": "python",
   "name": "python3"
  },
  "language_info": {
   "codemirror_mode": {
    "name": "ipython",
    "version": 3
   },
   "file_extension": ".py",
   "mimetype": "text/x-python",
   "name": "python",
   "nbconvert_exporter": "python",
   "pygments_lexer": "ipython3",
   "version": "3.10.10"
  }
 },
 "nbformat": 4,
 "nbformat_minor": 5
}
