{
 "cells": [
  {
   "cell_type": "markdown",
   "id": "1efa0b4e-4a25-4231-a0f2-41174d604424",
   "metadata": {},
   "source": [
    "### 连接数据"
   ]
  },
  {
   "cell_type": "code",
   "execution_count": 1,
   "id": "e5387996-c3d0-4e63-b3d8-199323e9d454",
   "metadata": {
    "tags": []
   },
   "outputs": [],
   "source": [
    "# 导入基础计算库\n",
    "import numpy as np\n",
    "# 导入数据分析库\n",
    "import pandas as pd\n",
    "# 导入matplotlib包\n",
    "import matplotlib as mpl"
   ]
  },
  {
   "cell_type": "code",
   "execution_count": 2,
   "id": "48e0655d-bcba-4292-8fa9-4aa5557c1495",
   "metadata": {
    "tags": []
   },
   "outputs": [
    {
     "data": {
      "text/html": [
       "<div>\n",
       "<style scoped>\n",
       "    .dataframe tbody tr th:only-of-type {\n",
       "        vertical-align: middle;\n",
       "    }\n",
       "\n",
       "    .dataframe tbody tr th {\n",
       "        vertical-align: top;\n",
       "    }\n",
       "\n",
       "    .dataframe thead th {\n",
       "        text-align: right;\n",
       "    }\n",
       "</style>\n",
       "<table border=\"1\" class=\"dataframe\">\n",
       "  <thead>\n",
       "    <tr style=\"text-align: right;\">\n",
       "      <th></th>\n",
       "      <th>0</th>\n",
       "      <th>1</th>\n",
       "      <th>2</th>\n",
       "      <th>3</th>\n",
       "      <th>4</th>\n",
       "    </tr>\n",
       "  </thead>\n",
       "  <tbody>\n",
       "    <tr>\n",
       "      <th>0</th>\n",
       "      <td>1.624345</td>\n",
       "      <td>-0.611756</td>\n",
       "      <td>-0.528172</td>\n",
       "      <td>-1.072969</td>\n",
       "      <td>0.865408</td>\n",
       "    </tr>\n",
       "    <tr>\n",
       "      <th>1</th>\n",
       "      <td>-2.301539</td>\n",
       "      <td>1.744812</td>\n",
       "      <td>-0.761207</td>\n",
       "      <td>0.319039</td>\n",
       "      <td>-0.249370</td>\n",
       "    </tr>\n",
       "    <tr>\n",
       "      <th>2</th>\n",
       "      <td>1.462108</td>\n",
       "      <td>-2.060141</td>\n",
       "      <td>-0.322417</td>\n",
       "      <td>-0.384054</td>\n",
       "      <td>1.133769</td>\n",
       "    </tr>\n",
       "    <tr>\n",
       "      <th>3</th>\n",
       "      <td>-1.099891</td>\n",
       "      <td>-0.172428</td>\n",
       "      <td>-0.877858</td>\n",
       "      <td>0.042214</td>\n",
       "      <td>0.582815</td>\n",
       "    </tr>\n",
       "    <tr>\n",
       "      <th>4</th>\n",
       "      <td>-1.100619</td>\n",
       "      <td>1.144724</td>\n",
       "      <td>0.901591</td>\n",
       "      <td>0.502494</td>\n",
       "      <td>0.900856</td>\n",
       "    </tr>\n",
       "  </tbody>\n",
       "</table>\n",
       "</div>"
      ],
      "text/plain": [
       "          0         1         2         3         4\n",
       "0  1.624345 -0.611756 -0.528172 -1.072969  0.865408\n",
       "1 -2.301539  1.744812 -0.761207  0.319039 -0.249370\n",
       "2  1.462108 -2.060141 -0.322417 -0.384054  1.133769\n",
       "3 -1.099891 -0.172428 -0.877858  0.042214  0.582815\n",
       "4 -1.100619  1.144724  0.901591  0.502494  0.900856"
      ]
     },
     "execution_count": 2,
     "metadata": {},
     "output_type": "execute_result"
    }
   ],
   "source": [
    "# 设置随机数种子\n",
    "np.random.seed(1)\n",
    "# 生成数据\n",
    "df = pd.DataFrame(np.random.randn(5, 5))\n",
    "df"
   ]
  },
  {
   "cell_type": "code",
   "execution_count": 3,
   "id": "c1b6ebfd-76c6-4f53-9bed-f87065d431f5",
   "metadata": {
    "tags": []
   },
   "outputs": [
    {
     "data": {
      "text/html": [
       "<style type=\"text/css\">\n",
       "</style>\n",
       "<table id=\"T_c3af9\">\n",
       "  <thead>\n",
       "    <tr>\n",
       "      <th class=\"blank level0\" >&nbsp;</th>\n",
       "      <th id=\"T_c3af9_level0_col0\" class=\"col_heading level0 col0\" >0</th>\n",
       "      <th id=\"T_c3af9_level0_col1\" class=\"col_heading level0 col1\" >1</th>\n",
       "      <th id=\"T_c3af9_level0_col2\" class=\"col_heading level0 col2\" >2</th>\n",
       "      <th id=\"T_c3af9_level0_col3\" class=\"col_heading level0 col3\" >3</th>\n",
       "      <th id=\"T_c3af9_level0_col4\" class=\"col_heading level0 col4\" >4</th>\n",
       "    </tr>\n",
       "  </thead>\n",
       "  <tbody>\n",
       "    <tr>\n",
       "      <th id=\"T_c3af9_level0_row0\" class=\"row_heading level0 row0\" >Sum</th>\n",
       "      <td id=\"T_c3af9_row0_col0\" class=\"data row0 col0\" >-1.416</td>\n",
       "      <td id=\"T_c3af9_row0_col1\" class=\"data row0 col1\" >0.045</td>\n",
       "      <td id=\"T_c3af9_row0_col2\" class=\"data row0 col2\" >-1.588</td>\n",
       "      <td id=\"T_c3af9_row0_col3\" class=\"data row0 col3\" >-0.593</td>\n",
       "      <td id=\"T_c3af9_row0_col4\" class=\"data row0 col4\" >3.233</td>\n",
       "    </tr>\n",
       "    <tr>\n",
       "      <th id=\"T_c3af9_level0_row1\" class=\"row_heading level0 row1\" >Average</th>\n",
       "      <td id=\"T_c3af9_row1_col0\" class=\"data row1 col0\" >-0.283</td>\n",
       "      <td id=\"T_c3af9_row1_col1\" class=\"data row1 col1\" >0.009</td>\n",
       "      <td id=\"T_c3af9_row1_col2\" class=\"data row1 col2\" >-0.318</td>\n",
       "      <td id=\"T_c3af9_row1_col3\" class=\"data row1 col3\" >-0.119</td>\n",
       "      <td id=\"T_c3af9_row1_col4\" class=\"data row1 col4\" >0.647</td>\n",
       "    </tr>\n",
       "  </tbody>\n",
       "</table>\n"
      ],
      "text/plain": [
       "<pandas.io.formats.style.Styler at 0x1caeaefda50>"
      ]
     },
     "execution_count": 3,
     "metadata": {},
     "output_type": "execute_result"
    }
   ],
   "source": [
    "summary_styler = df.agg([\"sum\", \"mean\"]).style.format(\n",
    "    precision=3\n",
    ").relabel_index([\"Sum\", \"Average\"]) # 中心修改行名\n",
    "summary_styler"
   ]
  },
  {
   "cell_type": "code",
   "execution_count": 4,
   "id": "e715a4a0-b4fa-42b5-bd86-0d5ae85b0edb",
   "metadata": {
    "tags": []
   },
   "outputs": [
    {
     "data": {
      "text/html": [
       "<style type=\"text/css\">\n",
       "</style>\n",
       "<table id=\"T_0d61f\">\n",
       "  <thead>\n",
       "    <tr>\n",
       "      <th class=\"blank level0\" >&nbsp;</th>\n",
       "      <th id=\"T_0d61f_level0_col0\" class=\"col_heading level0 col0\" >0</th>\n",
       "      <th id=\"T_0d61f_level0_col1\" class=\"col_heading level0 col1\" >1</th>\n",
       "      <th id=\"T_0d61f_level0_col2\" class=\"col_heading level0 col2\" >2</th>\n",
       "      <th id=\"T_0d61f_level0_col3\" class=\"col_heading level0 col3\" >3</th>\n",
       "      <th id=\"T_0d61f_level0_col4\" class=\"col_heading level0 col4\" >4</th>\n",
       "    </tr>\n",
       "  </thead>\n",
       "  <tbody>\n",
       "    <tr>\n",
       "      <th id=\"T_0d61f_level0_row0\" class=\"row_heading level0 row0\" >0</th>\n",
       "      <td id=\"T_0d61f_row0_col0\" class=\"data row0 col0\" >1.6</td>\n",
       "      <td id=\"T_0d61f_row0_col1\" class=\"data row0 col1\" >-0.6</td>\n",
       "      <td id=\"T_0d61f_row0_col2\" class=\"data row0 col2\" >-0.5</td>\n",
       "      <td id=\"T_0d61f_row0_col3\" class=\"data row0 col3\" >-1.1</td>\n",
       "      <td id=\"T_0d61f_row0_col4\" class=\"data row0 col4\" >0.9</td>\n",
       "    </tr>\n",
       "    <tr>\n",
       "      <th id=\"T_0d61f_level0_row1\" class=\"row_heading level0 row1\" >1</th>\n",
       "      <td id=\"T_0d61f_row1_col0\" class=\"data row1 col0\" >-2.3</td>\n",
       "      <td id=\"T_0d61f_row1_col1\" class=\"data row1 col1\" >1.7</td>\n",
       "      <td id=\"T_0d61f_row1_col2\" class=\"data row1 col2\" >-0.8</td>\n",
       "      <td id=\"T_0d61f_row1_col3\" class=\"data row1 col3\" >0.3</td>\n",
       "      <td id=\"T_0d61f_row1_col4\" class=\"data row1 col4\" >-0.2</td>\n",
       "    </tr>\n",
       "    <tr>\n",
       "      <th id=\"T_0d61f_level0_row2\" class=\"row_heading level0 row2\" >2</th>\n",
       "      <td id=\"T_0d61f_row2_col0\" class=\"data row2 col0\" >1.5</td>\n",
       "      <td id=\"T_0d61f_row2_col1\" class=\"data row2 col1\" >-2.1</td>\n",
       "      <td id=\"T_0d61f_row2_col2\" class=\"data row2 col2\" >-0.3</td>\n",
       "      <td id=\"T_0d61f_row2_col3\" class=\"data row2 col3\" >-0.4</td>\n",
       "      <td id=\"T_0d61f_row2_col4\" class=\"data row2 col4\" >1.1</td>\n",
       "    </tr>\n",
       "    <tr>\n",
       "      <th id=\"T_0d61f_level0_row3\" class=\"row_heading level0 row3\" >3</th>\n",
       "      <td id=\"T_0d61f_row3_col0\" class=\"data row3 col0\" >-1.1</td>\n",
       "      <td id=\"T_0d61f_row3_col1\" class=\"data row3 col1\" >-0.2</td>\n",
       "      <td id=\"T_0d61f_row3_col2\" class=\"data row3 col2\" >-0.9</td>\n",
       "      <td id=\"T_0d61f_row3_col3\" class=\"data row3 col3\" >0.0</td>\n",
       "      <td id=\"T_0d61f_row3_col4\" class=\"data row3 col4\" >0.6</td>\n",
       "    </tr>\n",
       "    <tr>\n",
       "      <th id=\"T_0d61f_level0_row4\" class=\"row_heading level0 row4\" >4</th>\n",
       "      <td id=\"T_0d61f_row4_col0\" class=\"data row4 col0\" >-1.1</td>\n",
       "      <td id=\"T_0d61f_row4_col1\" class=\"data row4 col1\" >1.1</td>\n",
       "      <td id=\"T_0d61f_row4_col2\" class=\"data row4 col2\" >0.9</td>\n",
       "      <td id=\"T_0d61f_row4_col3\" class=\"data row4 col3\" >0.5</td>\n",
       "      <td id=\"T_0d61f_row4_col4\" class=\"data row4 col4\" >0.9</td>\n",
       "    </tr>\n",
       "    <tr>\n",
       "      <th id=\"T_0d61f_level0_foot0_row0\" class=\"foot0_row_heading level0 foot0_row0\" >Sum</th>\n",
       "      <td id=\"T_0d61f_foot0_row0_col0\" class=\"foot0_data foot0_row0 col0\" >-1.416</td>\n",
       "      <td id=\"T_0d61f_foot0_row0_col1\" class=\"foot0_data foot0_row0 col1\" >0.045</td>\n",
       "      <td id=\"T_0d61f_foot0_row0_col2\" class=\"foot0_data foot0_row0 col2\" >-1.588</td>\n",
       "      <td id=\"T_0d61f_foot0_row0_col3\" class=\"foot0_data foot0_row0 col3\" >-0.593</td>\n",
       "      <td id=\"T_0d61f_foot0_row0_col4\" class=\"foot0_data foot0_row0 col4\" >3.233</td>\n",
       "    </tr>\n",
       "    <tr>\n",
       "      <th id=\"T_0d61f_level0_foot0_row1\" class=\"foot0_row_heading level0 foot0_row1\" >Average</th>\n",
       "      <td id=\"T_0d61f_foot0_row1_col0\" class=\"foot0_data foot0_row1 col0\" >-0.283</td>\n",
       "      <td id=\"T_0d61f_foot0_row1_col1\" class=\"foot0_data foot0_row1 col1\" >0.009</td>\n",
       "      <td id=\"T_0d61f_foot0_row1_col2\" class=\"foot0_data foot0_row1 col2\" >-0.318</td>\n",
       "      <td id=\"T_0d61f_foot0_row1_col3\" class=\"foot0_data foot0_row1 col3\" >-0.119</td>\n",
       "      <td id=\"T_0d61f_foot0_row1_col4\" class=\"foot0_data foot0_row1 col4\" >0.647</td>\n",
       "    </tr>\n",
       "  </tbody>\n",
       "</table>\n"
      ],
      "text/plain": [
       "<pandas.io.formats.style.Styler at 0x1caed690bb0>"
      ]
     },
     "execution_count": 4,
     "metadata": {},
     "output_type": "execute_result"
    }
   ],
   "source": [
    "df.style.format(precision=1).concat(summary_styler)"
   ]
  }
 ],
 "metadata": {
  "kernelspec": {
   "display_name": "Python 3 (ipykernel)",
   "language": "python",
   "name": "python3"
  },
  "language_info": {
   "codemirror_mode": {
    "name": "ipython",
    "version": 3
   },
   "file_extension": ".py",
   "mimetype": "text/x-python",
   "name": "python",
   "nbconvert_exporter": "python",
   "pygments_lexer": "ipython3",
   "version": "3.10.10"
  }
 },
 "nbformat": 4,
 "nbformat_minor": 5
}
