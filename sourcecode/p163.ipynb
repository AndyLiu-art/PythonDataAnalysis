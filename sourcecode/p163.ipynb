{
 "cells": [
  {
   "cell_type": "markdown",
   "id": "e0308e25-15f1-4ecc-b1ec-bcf30c6072cb",
   "metadata": {},
   "source": [
    "### 获取时间的年月日时分秒"
   ]
  },
  {
   "cell_type": "code",
   "execution_count": 1,
   "id": "93ca26c3-891b-4954-9fed-36e373d03206",
   "metadata": {
    "tags": []
   },
   "outputs": [],
   "source": [
    "import numpy as np\n",
    "import pandas as pd"
   ]
  },
  {
   "cell_type": "code",
   "execution_count": 2,
   "id": "84b1f3ab-9d28-446b-a122-abcfa5b4c391",
   "metadata": {
    "tags": []
   },
   "outputs": [
    {
     "data": {
      "text/plain": [
       "0         2019-12-29 12:13:14\n",
       "1         2019-12-29 12:13:15\n",
       "2         2019-12-29 12:13:16\n",
       "3         2019-12-29 12:13:17\n",
       "4         2019-12-29 12:13:18\n",
       "                  ...        \n",
       "3999995   2020-02-13 19:19:49\n",
       "3999996   2020-02-13 19:19:50\n",
       "3999997   2020-02-13 19:19:51\n",
       "3999998   2020-02-13 19:19:52\n",
       "3999999   2020-02-13 19:19:53\n",
       "Length: 4000000, dtype: datetime64[ns]"
      ]
     },
     "execution_count": 2,
     "metadata": {},
     "output_type": "execute_result"
    }
   ],
   "source": [
    "idx = pd.date_range(start=\"2019-12-29 12:13:14\", freq=\"s\", periods=4000000)\n",
    "# 转为Series对象\n",
    "idx = pd.Series(idx)\n",
    "idx"
   ]
  },
  {
   "cell_type": "code",
   "execution_count": 3,
   "id": "73873c91-a6a8-44a4-b001-15d137dc8306",
   "metadata": {
    "tags": []
   },
   "outputs": [
    {
     "data": {
      "text/plain": [
       "0          2019\n",
       "1          2019\n",
       "2          2019\n",
       "3          2019\n",
       "4          2019\n",
       "           ... \n",
       "3999995    2020\n",
       "3999996    2020\n",
       "3999997    2020\n",
       "3999998    2020\n",
       "3999999    2020\n",
       "Length: 4000000, dtype: int64"
      ]
     },
     "execution_count": 3,
     "metadata": {},
     "output_type": "execute_result"
    }
   ],
   "source": [
    "# 年份\n",
    "idx.dt.year"
   ]
  },
  {
   "cell_type": "code",
   "execution_count": 4,
   "id": "64e5a3b4-1562-4988-96a2-cc8ecb3fc110",
   "metadata": {
    "tags": []
   },
   "outputs": [
    {
     "data": {
      "text/plain": [
       "0          12\n",
       "1          12\n",
       "2          12\n",
       "3          12\n",
       "4          12\n",
       "           ..\n",
       "3999995     2\n",
       "3999996     2\n",
       "3999997     2\n",
       "3999998     2\n",
       "3999999     2\n",
       "Length: 4000000, dtype: int64"
      ]
     },
     "execution_count": 4,
     "metadata": {},
     "output_type": "execute_result"
    }
   ],
   "source": [
    "# 月份\n",
    "idx.dt.month"
   ]
  },
  {
   "cell_type": "code",
   "execution_count": 5,
   "id": "f9401cdb-4c8e-4682-aca4-0478b613d117",
   "metadata": {
    "tags": []
   },
   "outputs": [
    {
     "data": {
      "text/plain": [
       "0          29\n",
       "1          29\n",
       "2          29\n",
       "3          29\n",
       "4          29\n",
       "           ..\n",
       "3999995    13\n",
       "3999996    13\n",
       "3999997    13\n",
       "3999998    13\n",
       "3999999    13\n",
       "Length: 4000000, dtype: int64"
      ]
     },
     "execution_count": 5,
     "metadata": {},
     "output_type": "execute_result"
    }
   ],
   "source": [
    "# 日子\n",
    "idx.dt.day"
   ]
  },
  {
   "cell_type": "code",
   "execution_count": 6,
   "id": "5cc96e5e-a810-4635-8b56-81f5bb34cb18",
   "metadata": {
    "tags": []
   },
   "outputs": [
    {
     "data": {
      "text/plain": [
       "0          12\n",
       "1          12\n",
       "2          12\n",
       "3          12\n",
       "4          12\n",
       "           ..\n",
       "3999995    19\n",
       "3999996    19\n",
       "3999997    19\n",
       "3999998    19\n",
       "3999999    19\n",
       "Length: 4000000, dtype: int64"
      ]
     },
     "execution_count": 6,
     "metadata": {},
     "output_type": "execute_result"
    }
   ],
   "source": [
    "# 小时\n",
    "idx.dt.hour"
   ]
  },
  {
   "cell_type": "code",
   "execution_count": 7,
   "id": "ad7e4b13-55ac-4185-86db-2dd2a54cd4b4",
   "metadata": {
    "tags": []
   },
   "outputs": [
    {
     "data": {
      "text/plain": [
       "0          13\n",
       "1          13\n",
       "2          13\n",
       "3          13\n",
       "4          13\n",
       "           ..\n",
       "3999995    19\n",
       "3999996    19\n",
       "3999997    19\n",
       "3999998    19\n",
       "3999999    19\n",
       "Length: 4000000, dtype: int64"
      ]
     },
     "execution_count": 7,
     "metadata": {},
     "output_type": "execute_result"
    }
   ],
   "source": [
    "# 分钟\n",
    "idx.dt.minute"
   ]
  },
  {
   "cell_type": "code",
   "execution_count": 8,
   "id": "b8e89122-48ff-4c1a-a3fa-ed6211996277",
   "metadata": {
    "tags": []
   },
   "outputs": [
    {
     "data": {
      "text/plain": [
       "0          14\n",
       "1          15\n",
       "2          16\n",
       "3          17\n",
       "4          18\n",
       "           ..\n",
       "3999995    49\n",
       "3999996    50\n",
       "3999997    51\n",
       "3999998    52\n",
       "3999999    53\n",
       "Length: 4000000, dtype: int64"
      ]
     },
     "execution_count": 8,
     "metadata": {},
     "output_type": "execute_result"
    }
   ],
   "source": [
    "# 秒\n",
    "idx.dt.second"
   ]
  },
  {
   "cell_type": "code",
   "execution_count": 9,
   "id": "4a8676dd-78e9-4d19-87f2-9c71b082768d",
   "metadata": {
    "tags": []
   },
   "outputs": [
    {
     "data": {
      "text/plain": [
       "0          2019-12-29\n",
       "1          2019-12-29\n",
       "2          2019-12-29\n",
       "3          2019-12-29\n",
       "4          2019-12-29\n",
       "              ...    \n",
       "3999995    2020-02-13\n",
       "3999996    2020-02-13\n",
       "3999997    2020-02-13\n",
       "3999998    2020-02-13\n",
       "3999999    2020-02-13\n",
       "Length: 4000000, dtype: object"
      ]
     },
     "execution_count": 9,
     "metadata": {},
     "output_type": "execute_result"
    }
   ],
   "source": [
    "# 日期\n",
    "idx.dt.date"
   ]
  },
  {
   "cell_type": "code",
   "execution_count": 10,
   "id": "87a15590-b58e-4082-a525-0d2bc4491960",
   "metadata": {
    "tags": []
   },
   "outputs": [
    {
     "data": {
      "text/plain": [
       "0          12:13:14\n",
       "1          12:13:15\n",
       "2          12:13:16\n",
       "3          12:13:17\n",
       "4          12:13:18\n",
       "             ...   \n",
       "3999995    19:19:49\n",
       "3999996    19:19:50\n",
       "3999997    19:19:51\n",
       "3999998    19:19:52\n",
       "3999999    19:19:53\n",
       "Length: 4000000, dtype: object"
      ]
     },
     "execution_count": 10,
     "metadata": {},
     "output_type": "execute_result"
    }
   ],
   "source": [
    "# 时间\n",
    "idx.dt.time"
   ]
  }
 ],
 "metadata": {
  "kernelspec": {
   "display_name": "Python 3 (ipykernel)",
   "language": "python",
   "name": "python3"
  },
  "language_info": {
   "codemirror_mode": {
    "name": "ipython",
    "version": 3
   },
   "file_extension": ".py",
   "mimetype": "text/x-python",
   "name": "python",
   "nbconvert_exporter": "python",
   "pygments_lexer": "ipython3",
   "version": "3.10.10"
  }
 },
 "nbformat": 4,
 "nbformat_minor": 5
}
