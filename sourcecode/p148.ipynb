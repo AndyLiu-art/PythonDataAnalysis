{
 "cells": [
  {
   "cell_type": "markdown",
   "id": "66536843-8302-4d1b-b71e-099a44327a6d",
   "metadata": {},
   "source": [
    "### 计算ndarray每一列的均值，对于for循环和apply方法，改变行数"
   ]
  },
  {
   "cell_type": "code",
   "execution_count": 1,
   "id": "a1180f17-7dae-4d44-b186-bcd705a88853",
   "metadata": {
    "tags": []
   },
   "outputs": [],
   "source": [
    "# 导入基础计算库\n",
    "import numpy as np"
   ]
  },
  {
   "cell_type": "code",
   "execution_count": 2,
   "id": "2b18088e-e1ea-4047-8b3b-7cb96f8e677f",
   "metadata": {
    "tags": []
   },
   "outputs": [],
   "source": [
    "def generate_data(row, col):\n",
    "    np.random.seed(1)\n",
    "    df = np.random.randn(row, col)\n",
    "    return df"
   ]
  },
  {
   "cell_type": "code",
   "execution_count": 3,
   "id": "43018daf-4d32-4dd2-afc4-b4fe06dd0e59",
   "metadata": {
    "tags": []
   },
   "outputs": [],
   "source": [
    "df = generate_data(20, 10)"
   ]
  },
  {
   "cell_type": "code",
   "execution_count": 4,
   "id": "6b3b5560-1134-42bd-923f-7535db010888",
   "metadata": {
    "tags": []
   },
   "outputs": [
    {
     "name": "stdout",
     "output_type": "stream",
     "text": [
      "388 µs ± 25.1 µs per loop (mean ± std. dev. of 7 runs, 1,000 loops each)\n"
     ]
    }
   ],
   "source": [
    "%%timeit\n",
    "np.apply_along_axis(np.mean, 0, df)"
   ]
  },
  {
   "cell_type": "code",
   "execution_count": 5,
   "id": "422f51e9-9b04-4f82-8774-6f4a9511cd91",
   "metadata": {
    "tags": []
   },
   "outputs": [
    {
     "name": "stdout",
     "output_type": "stream",
     "text": [
      "253 µs ± 19.7 µs per loop (mean ± std. dev. of 7 runs, 1,000 loops each)\n"
     ]
    }
   ],
   "source": [
    "%%timeit\n",
    "# 存储结果的列表\n",
    "lst = []\n",
    "for i in range(df.shape[1]):\n",
    "    lst.append(np.mean(df[:, i]))"
   ]
  },
  {
   "cell_type": "code",
   "execution_count": 6,
   "id": "f5b38e3a-76c3-4b85-baea-5e8e003c36a5",
   "metadata": {
    "tags": []
   },
   "outputs": [],
   "source": [
    "df = generate_data(200, 10)"
   ]
  },
  {
   "cell_type": "code",
   "execution_count": 7,
   "id": "2803a365-2bf1-4a2c-8c9a-44fa0522e6c4",
   "metadata": {
    "tags": []
   },
   "outputs": [
    {
     "name": "stdout",
     "output_type": "stream",
     "text": [
      "385 µs ± 11.1 µs per loop (mean ± std. dev. of 7 runs, 1,000 loops each)\n"
     ]
    }
   ],
   "source": [
    "%%timeit\n",
    "np.apply_along_axis(np.mean, 0, df)"
   ]
  },
  {
   "cell_type": "code",
   "execution_count": 8,
   "id": "24d0a09b-cc5d-486c-95f8-8bbbe150969f",
   "metadata": {
    "tags": []
   },
   "outputs": [
    {
     "name": "stdout",
     "output_type": "stream",
     "text": [
      "263 µs ± 12.7 µs per loop (mean ± std. dev. of 7 runs, 1,000 loops each)\n"
     ]
    }
   ],
   "source": [
    "%%timeit\n",
    "# 存储结果的列表\n",
    "lst = []\n",
    "for i in range(df.shape[1]):\n",
    "    lst.append(np.mean(df[:, i]))"
   ]
  },
  {
   "cell_type": "code",
   "execution_count": 9,
   "id": "bc9475b4-30a0-4d06-8eda-52e2281aef69",
   "metadata": {
    "tags": []
   },
   "outputs": [],
   "source": [
    "df = generate_data(2000, 10)"
   ]
  },
  {
   "cell_type": "code",
   "execution_count": 10,
   "id": "5a67d63c-0bae-4012-9e2f-7ff50e429c30",
   "metadata": {
    "tags": []
   },
   "outputs": [
    {
     "name": "stdout",
     "output_type": "stream",
     "text": [
      "432 µs ± 10.4 µs per loop (mean ± std. dev. of 7 runs, 1,000 loops each)\n"
     ]
    }
   ],
   "source": [
    "%%timeit\n",
    "np.apply_along_axis(np.mean, 0, df)"
   ]
  },
  {
   "cell_type": "code",
   "execution_count": 11,
   "id": "c081d9ed-dda3-488a-89b1-b188252170ac",
   "metadata": {
    "tags": []
   },
   "outputs": [
    {
     "name": "stdout",
     "output_type": "stream",
     "text": [
      "295 µs ± 10.6 µs per loop (mean ± std. dev. of 7 runs, 1,000 loops each)\n"
     ]
    }
   ],
   "source": [
    "%%timeit\n",
    "# 存储结果的列表\n",
    "lst = []\n",
    "for i in range(df.shape[1]):\n",
    "    lst.append(np.mean(df[:, i]))"
   ]
  },
  {
   "cell_type": "code",
   "execution_count": 12,
   "id": "d328b203-7b78-4464-9859-0dfca658c891",
   "metadata": {
    "tags": []
   },
   "outputs": [],
   "source": [
    "df = generate_data(20000, 10)"
   ]
  },
  {
   "cell_type": "code",
   "execution_count": 13,
   "id": "b64d22b5-e253-409f-9f85-ff9e5fdb02b5",
   "metadata": {
    "tags": []
   },
   "outputs": [
    {
     "name": "stdout",
     "output_type": "stream",
     "text": [
      "831 µs ± 23.7 µs per loop (mean ± std. dev. of 7 runs, 1,000 loops each)\n"
     ]
    }
   ],
   "source": [
    "%%timeit\n",
    "np.apply_along_axis(np.mean, 0, df)"
   ]
  },
  {
   "cell_type": "code",
   "execution_count": 14,
   "id": "77d0bfbc-c4fe-46f4-9e8e-f1438e3f8bc9",
   "metadata": {
    "tags": []
   },
   "outputs": [
    {
     "name": "stdout",
     "output_type": "stream",
     "text": [
      "672 µs ± 40.3 µs per loop (mean ± std. dev. of 7 runs, 1,000 loops each)\n"
     ]
    }
   ],
   "source": [
    "%%timeit\n",
    "# 存储结果的列表\n",
    "lst = []\n",
    "for i in range(df.shape[1]):\n",
    "    lst.append(np.mean(df[:, i]))"
   ]
  },
  {
   "cell_type": "code",
   "execution_count": 15,
   "id": "47d856dc-8fcf-4bc6-90b3-10c297d9c60f",
   "metadata": {
    "tags": []
   },
   "outputs": [],
   "source": [
    "df = generate_data(200000, 10)"
   ]
  },
  {
   "cell_type": "code",
   "execution_count": 16,
   "id": "9cb8b8f0-dc51-4b86-9cce-f3b55bc67fbb",
   "metadata": {
    "tags": []
   },
   "outputs": [
    {
     "name": "stdout",
     "output_type": "stream",
     "text": [
      "26.4 ms ± 1.51 ms per loop (mean ± std. dev. of 7 runs, 10 loops each)\n"
     ]
    }
   ],
   "source": [
    "%%timeit\n",
    "np.apply_along_axis(np.mean, 0, df)"
   ]
  },
  {
   "cell_type": "code",
   "execution_count": 17,
   "id": "17607a6b-d64c-4b0a-8002-4b02b9f68d81",
   "metadata": {
    "tags": []
   },
   "outputs": [
    {
     "name": "stdout",
     "output_type": "stream",
     "text": [
      "26.5 ms ± 1.07 ms per loop (mean ± std. dev. of 7 runs, 10 loops each)\n"
     ]
    }
   ],
   "source": [
    "%%timeit\n",
    "# 存储结果的列表\n",
    "lst = []\n",
    "for i in range(df.shape[1]):\n",
    "    lst.append(np.mean(df[:, i]))"
   ]
  },
  {
   "cell_type": "markdown",
   "id": "3b867fe8-3ed3-4c61-876b-9a330eee3076",
   "metadata": {},
   "source": [
    "for循环完胜apply方法"
   ]
  }
 ],
 "metadata": {
  "kernelspec": {
   "display_name": "Python 3 (ipykernel)",
   "language": "python",
   "name": "python3"
  },
  "language_info": {
   "codemirror_mode": {
    "name": "ipython",
    "version": 3
   },
   "file_extension": ".py",
   "mimetype": "text/x-python",
   "name": "python",
   "nbconvert_exporter": "python",
   "pygments_lexer": "ipython3",
   "version": "3.10.10"
  }
 },
 "nbformat": 4,
 "nbformat_minor": 5
}
