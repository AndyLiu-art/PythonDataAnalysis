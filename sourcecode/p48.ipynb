{
 "cells": [
  {
   "cell_type": "markdown",
   "id": "a15414b8-2d03-438f-81f9-397e978f5aaa",
   "metadata": {},
   "source": [
    "### 对含有缺失值的列进行求和和求乘积，看看结果如何。"
   ]
  },
  {
   "cell_type": "code",
   "execution_count": 1,
   "id": "fed37c7e-23a4-44c3-b5cc-d31a4207b623",
   "metadata": {
    "tags": []
   },
   "outputs": [],
   "source": [
    "import pandas as pd\n",
    "import numpy as np"
   ]
  },
  {
   "cell_type": "code",
   "execution_count": 2,
   "id": "1b0c37f6-0c55-4ede-8579-d4764d41fe5e",
   "metadata": {},
   "outputs": [
    {
     "data": {
      "text/html": [
       "<div>\n",
       "<style scoped>\n",
       "    .dataframe tbody tr th:only-of-type {\n",
       "        vertical-align: middle;\n",
       "    }\n",
       "\n",
       "    .dataframe tbody tr th {\n",
       "        vertical-align: top;\n",
       "    }\n",
       "\n",
       "    .dataframe thead th {\n",
       "        text-align: right;\n",
       "    }\n",
       "</style>\n",
       "<table border=\"1\" class=\"dataframe\">\n",
       "  <thead>\n",
       "    <tr style=\"text-align: right;\">\n",
       "      <th></th>\n",
       "      <th>one</th>\n",
       "      <th>two</th>\n",
       "      <th>three</th>\n",
       "      <th>four</th>\n",
       "      <th>five</th>\n",
       "    </tr>\n",
       "  </thead>\n",
       "  <tbody>\n",
       "    <tr>\n",
       "      <th>a</th>\n",
       "      <td>0.271842</td>\n",
       "      <td>-0.350975</td>\n",
       "      <td>0.194960</td>\n",
       "      <td>bar</td>\n",
       "      <td>True</td>\n",
       "    </tr>\n",
       "    <tr>\n",
       "      <th>b</th>\n",
       "      <td>NaN</td>\n",
       "      <td>NaN</td>\n",
       "      <td>NaN</td>\n",
       "      <td>NaN</td>\n",
       "      <td>NaN</td>\n",
       "    </tr>\n",
       "    <tr>\n",
       "      <th>c</th>\n",
       "      <td>-0.104840</td>\n",
       "      <td>-0.469391</td>\n",
       "      <td>-0.410844</td>\n",
       "      <td>bar</td>\n",
       "      <td>False</td>\n",
       "    </tr>\n",
       "    <tr>\n",
       "      <th>d</th>\n",
       "      <td>NaN</td>\n",
       "      <td>NaN</td>\n",
       "      <td>NaN</td>\n",
       "      <td>NaN</td>\n",
       "      <td>NaN</td>\n",
       "    </tr>\n",
       "    <tr>\n",
       "      <th>e</th>\n",
       "      <td>-0.059557</td>\n",
       "      <td>0.436472</td>\n",
       "      <td>-0.792940</td>\n",
       "      <td>bar</td>\n",
       "      <td>False</td>\n",
       "    </tr>\n",
       "    <tr>\n",
       "      <th>f</th>\n",
       "      <td>0.575772</td>\n",
       "      <td>-0.903377</td>\n",
       "      <td>0.192159</td>\n",
       "      <td>bar</td>\n",
       "      <td>True</td>\n",
       "    </tr>\n",
       "    <tr>\n",
       "      <th>g</th>\n",
       "      <td>NaN</td>\n",
       "      <td>NaN</td>\n",
       "      <td>NaN</td>\n",
       "      <td>NaN</td>\n",
       "      <td>NaN</td>\n",
       "    </tr>\n",
       "    <tr>\n",
       "      <th>h</th>\n",
       "      <td>-1.555696</td>\n",
       "      <td>0.607744</td>\n",
       "      <td>-0.759766</td>\n",
       "      <td>bar</td>\n",
       "      <td>False</td>\n",
       "    </tr>\n",
       "  </tbody>\n",
       "</table>\n",
       "</div>"
      ],
      "text/plain": [
       "        one       two     three four   five\n",
       "a  0.271842 -0.350975  0.194960  bar   True\n",
       "b       NaN       NaN       NaN  NaN    NaN\n",
       "c -0.104840 -0.469391 -0.410844  bar  False\n",
       "d       NaN       NaN       NaN  NaN    NaN\n",
       "e -0.059557  0.436472 -0.792940  bar  False\n",
       "f  0.575772 -0.903377  0.192159  bar   True\n",
       "g       NaN       NaN       NaN  NaN    NaN\n",
       "h -1.555696  0.607744 -0.759766  bar  False"
      ]
     },
     "execution_count": 2,
     "metadata": {},
     "output_type": "execute_result"
    }
   ],
   "source": [
    "# 生成dataframe\n",
    "df = pd.DataFrame(\n",
    "    np.random.randn(5, 3),\n",
    "    index=[\"a\", \"c\", \"e\", \"f\", \"h\"],\n",
    "    columns=[\"one\", \"two\", \"three\"],\n",
    ")\n",
    "df[\"four\"] = \"bar\"\n",
    "df[\"five\"] = df[\"one\"] > 0\n",
    "df = df.reindex([\"a\", \"b\", \"c\", \"d\", \"e\", \"f\", \"g\", \"h\"])\n",
    "df"
   ]
  },
  {
   "cell_type": "code",
   "execution_count": 3,
   "id": "b958fc32-95bd-43a9-a3ee-f6f0cc68fc2e",
   "metadata": {
    "tags": []
   },
   "outputs": [
    {
     "data": {
      "text/plain": [
       "-0.8724777568039623"
      ]
     },
     "execution_count": 3,
     "metadata": {},
     "output_type": "execute_result"
    }
   ],
   "source": [
    "# 计算含有缺失值的列的和，默认是跳过缺失值\n",
    "df[\"one\"].sum()"
   ]
  },
  {
   "cell_type": "code",
   "execution_count": 4,
   "id": "af945ad4-34ab-4e97-b201-dd936d85c0e7",
   "metadata": {
    "tags": []
   },
   "outputs": [
    {
     "data": {
      "text/plain": [
       "nan"
      ]
     },
     "execution_count": 4,
     "metadata": {},
     "output_type": "execute_result"
    }
   ],
   "source": [
    "# 不跳过缺失值，那么得到的和就是NaN\n",
    "df[\"two\"].sum(skipna=False)"
   ]
  },
  {
   "cell_type": "code",
   "execution_count": 5,
   "id": "8952acea-09df-428f-bc7f-faa3ff0c5848",
   "metadata": {
    "tags": []
   },
   "outputs": [
    {
     "data": {
      "text/plain": [
       "-0.0015203634461877212"
      ]
     },
     "execution_count": 5,
     "metadata": {},
     "output_type": "execute_result"
    }
   ],
   "source": [
    "# 计算含有缺失值的列的积，默认是跳过缺失值\n",
    "df[\"one\"].prod()"
   ]
  },
  {
   "cell_type": "code",
   "execution_count": 6,
   "id": "a3700bfe-13ce-4e73-a786-a5ce347c0f00",
   "metadata": {
    "tags": []
   },
   "outputs": [
    {
     "data": {
      "text/plain": [
       "nan"
      ]
     },
     "execution_count": 6,
     "metadata": {},
     "output_type": "execute_result"
    }
   ],
   "source": [
    "# 不跳过缺失值，那么得到的积就是NaN\n",
    "df[\"two\"].prod(skipna=False)"
   ]
  }
 ],
 "metadata": {
  "kernelspec": {
   "display_name": "Python 3 (ipykernel)",
   "language": "python",
   "name": "python3"
  },
  "language_info": {
   "codemirror_mode": {
    "name": "ipython",
    "version": 3
   },
   "file_extension": ".py",
   "mimetype": "text/x-python",
   "name": "python",
   "nbconvert_exporter": "python",
   "pygments_lexer": "ipython3",
   "version": "3.10.10"
  }
 },
 "nbformat": 4,
 "nbformat_minor": 5
}
