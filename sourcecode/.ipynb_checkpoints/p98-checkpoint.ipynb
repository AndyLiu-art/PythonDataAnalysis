{
 "cells": [
  {
   "cell_type": "code",
   "execution_count": null,
   "id": "13eb0d35-3ba8-4bd7-be3d-57313041adcc",
   "metadata": {},
   "outputs": [],
   "source": []
  }
 ],
 "metadata": {
  "kernelspec": {
   "display_name": "Python 3 (ipykernel)",
   "language": "python",
   "name": "python3"
  },
  "language_info": {
   "name": ""
  }
 },
 "nbformat": 4,
 "nbformat_minor": 5
}
