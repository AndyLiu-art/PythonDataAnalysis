{
 "cells": [
  {
   "cell_type": "code",
   "execution_count": null,
   "id": "a5dff30f-582b-46ce-9c52-0f3769d6e508",
   "metadata": {},
   "outputs": [],
   "source": []
  }
 ],
 "metadata": {
  "kernelspec": {
   "display_name": "Python 3 (ipykernel)",
   "language": "python",
   "name": "python3"
  },
  "language_info": {
   "name": ""
  }
 },
 "nbformat": 4,
 "nbformat_minor": 5
}
