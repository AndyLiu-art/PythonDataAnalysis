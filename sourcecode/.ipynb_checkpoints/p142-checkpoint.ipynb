{
 "cells": [
  {
   "cell_type": "markdown",
   "id": "66536843-8302-4d1b-b71e-099a44327a6d",
   "metadata": {},
   "source": [
    "### 计算DataFrame每一列的均值，对于for循环和apply方法"
   ]
  },
  {
   "cell_type": "code",
   "execution_count": 1,
   "id": "a1180f17-7dae-4d44-b186-bcd705a88853",
   "metadata": {
    "tags": []
   },
   "outputs": [],
   "source": [
    "# 导入数据分析库\n",
    "import pandas as pd\n",
    "# 导入基础计算库\n",
    "import numpy as np"
   ]
  },
  {
   "cell_type": "code",
   "execution_count": 2,
   "id": "2b18088e-e1ea-4047-8b3b-7cb96f8e677f",
   "metadata": {
    "tags": []
   },
   "outputs": [],
   "source": [
    "# 行列数\n",
    "row=20\n",
    "col=10\n",
    "np.random.seed(1)\n",
    "df = pd.DataFrame(np.random.randn(row, col))"
   ]
  },
  {
   "cell_type": "code",
   "execution_count": 3,
   "id": "6b3b5560-1134-42bd-923f-7535db010888",
   "metadata": {
    "tags": []
   },
   "outputs": [
    {
     "name": "stdout",
     "output_type": "stream",
     "text": [
      "792 µs ± 38.7 µs per loop (mean ± std. dev. of 7 runs, 1,000 loops each)\n"
     ]
    }
   ],
   "source": [
    "%%timeit\n",
    "df.apply(\"mean\", axis=0)"
   ]
  },
  {
   "cell_type": "code",
   "execution_count": 4,
   "id": "422f51e9-9b04-4f82-8774-6f4a9511cd91",
   "metadata": {
    "tags": []
   },
   "outputs": [
    {
     "name": "stdout",
     "output_type": "stream",
     "text": [
      "2.78 ms ± 133 µs per loop (mean ± std. dev. of 7 runs, 100 loops each)\n"
     ]
    }
   ],
   "source": [
    "%%timeit\n",
    "# 存储结果的列表\n",
    "lst = []\n",
    "for i in range(df.shape[1]):\n",
    "    lst.append(np.mean(df.iloc[:, i]))"
   ]
  }
 ],
 "metadata": {
  "kernelspec": {
   "display_name": "Python 3 (ipykernel)",
   "language": "python",
   "name": "python3"
  },
  "language_info": {
   "codemirror_mode": {
    "name": "ipython",
    "version": 3
   },
   "file_extension": ".py",
   "mimetype": "text/x-python",
   "name": "python",
   "nbconvert_exporter": "python",
   "pygments_lexer": "ipython3",
   "version": "3.10.10"
  }
 },
 "nbformat": 4,
 "nbformat_minor": 5
}
