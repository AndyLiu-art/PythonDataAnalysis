{
 "cells": [
  {
   "cell_type": "code",
   "execution_count": null,
   "id": "7d1d2bd2-d3c1-4b79-920f-1cfc8afebd61",
   "metadata": {},
   "outputs": [],
   "source": []
  }
 ],
 "metadata": {
  "kernelspec": {
   "display_name": "Python 3 (ipykernel)",
   "language": "python",
   "name": "python3"
  },
  "language_info": {
   "name": ""
  }
 },
 "nbformat": 4,
 "nbformat_minor": 5
}
