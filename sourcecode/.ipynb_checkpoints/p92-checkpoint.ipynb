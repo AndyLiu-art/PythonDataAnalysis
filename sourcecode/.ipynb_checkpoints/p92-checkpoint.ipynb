{
 "cells": [
  {
   "cell_type": "markdown",
   "id": "5898bee4-5f46-461f-bfa4-ecf2f44ac52c",
   "metadata": {},
   "source": [
    "### 隐藏行名和列名"
   ]
  },
  {
   "cell_type": "code",
   "execution_count": 1,
   "id": "b5927733-8699-41dd-a353-df830c2b7834",
   "metadata": {
    "tags": []
   },
   "outputs": [],
   "source": [
    "# 导入基础计算库\n",
    "import numpy as np\n",
    "# 导入数据分析库\n",
    "import pandas as pd\n",
    "# 导入matplotlib包\n",
    "import matplotlib as mpl"
   ]
  },
  {
   "cell_type": "code",
   "execution_count": 2,
   "id": "34a68ea0-9393-4574-b890-a28d2f40ba59",
   "metadata": {
    "tags": []
   },
   "outputs": [
    {
     "data": {
      "text/html": [
       "<div>\n",
       "<style scoped>\n",
       "    .dataframe tbody tr th:only-of-type {\n",
       "        vertical-align: middle;\n",
       "    }\n",
       "\n",
       "    .dataframe tbody tr th {\n",
       "        vertical-align: top;\n",
       "    }\n",
       "\n",
       "    .dataframe thead th {\n",
       "        text-align: right;\n",
       "    }\n",
       "</style>\n",
       "<table border=\"1\" class=\"dataframe\">\n",
       "  <thead>\n",
       "    <tr style=\"text-align: right;\">\n",
       "      <th></th>\n",
       "      <th>0</th>\n",
       "      <th>1</th>\n",
       "      <th>2</th>\n",
       "      <th>3</th>\n",
       "      <th>4</th>\n",
       "    </tr>\n",
       "  </thead>\n",
       "  <tbody>\n",
       "    <tr>\n",
       "      <th>0</th>\n",
       "      <td>1.624345</td>\n",
       "      <td>-0.611756</td>\n",
       "      <td>-0.528172</td>\n",
       "      <td>-1.072969</td>\n",
       "      <td>0.865408</td>\n",
       "    </tr>\n",
       "    <tr>\n",
       "      <th>1</th>\n",
       "      <td>-2.301539</td>\n",
       "      <td>1.744812</td>\n",
       "      <td>-0.761207</td>\n",
       "      <td>0.319039</td>\n",
       "      <td>-0.249370</td>\n",
       "    </tr>\n",
       "    <tr>\n",
       "      <th>2</th>\n",
       "      <td>1.462108</td>\n",
       "      <td>-2.060141</td>\n",
       "      <td>-0.322417</td>\n",
       "      <td>-0.384054</td>\n",
       "      <td>1.133769</td>\n",
       "    </tr>\n",
       "    <tr>\n",
       "      <th>3</th>\n",
       "      <td>-1.099891</td>\n",
       "      <td>-0.172428</td>\n",
       "      <td>-0.877858</td>\n",
       "      <td>0.042214</td>\n",
       "      <td>0.582815</td>\n",
       "    </tr>\n",
       "    <tr>\n",
       "      <th>4</th>\n",
       "      <td>-1.100619</td>\n",
       "      <td>1.144724</td>\n",
       "      <td>0.901591</td>\n",
       "      <td>0.502494</td>\n",
       "      <td>0.900856</td>\n",
       "    </tr>\n",
       "  </tbody>\n",
       "</table>\n",
       "</div>"
      ],
      "text/plain": [
       "          0         1         2         3         4\n",
       "0  1.624345 -0.611756 -0.528172 -1.072969  0.865408\n",
       "1 -2.301539  1.744812 -0.761207  0.319039 -0.249370\n",
       "2  1.462108 -2.060141 -0.322417 -0.384054  1.133769\n",
       "3 -1.099891 -0.172428 -0.877858  0.042214  0.582815\n",
       "4 -1.100619  1.144724  0.901591  0.502494  0.900856"
      ]
     },
     "execution_count": 2,
     "metadata": {},
     "output_type": "execute_result"
    }
   ],
   "source": [
    "# 设置随机数种子\n",
    "np.random.seed(1)\n",
    "# 生成数据\n",
    "df = pd.DataFrame(np.random.randn(5, 5))\n",
    "df"
   ]
  },
  {
   "cell_type": "code",
   "execution_count": 3,
   "id": "104ec872-bc37-476b-900c-43eacff198c7",
   "metadata": {
    "tags": []
   },
   "outputs": [
    {
     "data": {
      "text/html": [
       "<style type=\"text/css\">\n",
       "</style>\n",
       "<table id=\"T_f4d84\">\n",
       "  <thead>\n",
       "    <tr>\n",
       "      <th class=\"blank level0\" >&nbsp;</th>\n",
       "      <th id=\"T_f4d84_level0_col1\" class=\"col_heading level0 col1\" >1</th>\n",
       "      <th id=\"T_f4d84_level0_col3\" class=\"col_heading level0 col3\" >3</th>\n",
       "    </tr>\n",
       "  </thead>\n",
       "  <tbody>\n",
       "    <tr>\n",
       "      <th id=\"T_f4d84_level0_row1\" class=\"row_heading level0 row1\" >1</th>\n",
       "      <td id=\"T_f4d84_row1_col1\" class=\"data row1 col1\" >1.744812</td>\n",
       "      <td id=\"T_f4d84_row1_col3\" class=\"data row1 col3\" >0.319039</td>\n",
       "    </tr>\n",
       "    <tr>\n",
       "      <th id=\"T_f4d84_level0_row3\" class=\"row_heading level0 row3\" >3</th>\n",
       "      <td id=\"T_f4d84_row3_col1\" class=\"data row3 col1\" >-0.172428</td>\n",
       "      <td id=\"T_f4d84_row3_col3\" class=\"data row3 col3\" >0.042214</td>\n",
       "    </tr>\n",
       "  </tbody>\n",
       "</table>\n"
      ],
      "text/plain": [
       "<pandas.io.formats.style.Styler at 0x241561cfac0>"
      ]
     },
     "execution_count": 3,
     "metadata": {},
     "output_type": "execute_result"
    }
   ],
   "source": [
    "df.style.hide(\n",
    "    subset=[0, 2, 4], axis=0 # 隐藏第一，三，五行\n",
    ").hide(\n",
    "    subset=[0, 2, 4], axis=1 # 隐藏第一，三，五列\n",
    ")"
   ]
  },
  {
   "cell_type": "code",
   "execution_count": 4,
   "id": "f3a89932-cd84-4818-b089-ac33d6d42594",
   "metadata": {
    "tags": []
   },
   "outputs": [
    {
     "data": {
      "text/html": [
       "<style type=\"text/css\">\n",
       "</style>\n",
       "<table id=\"T_a7726\">\n",
       "  <thead>\n",
       "    <tr>\n",
       "      <th class=\"blank level0\" >&nbsp;</th>\n",
       "      <th id=\"T_a7726_level0_col0\" class=\"col_heading level0 col0\" >0</th>\n",
       "      <th id=\"T_a7726_level0_col2\" class=\"col_heading level0 col2\" >2</th>\n",
       "      <th id=\"T_a7726_level0_col4\" class=\"col_heading level0 col4\" >4</th>\n",
       "    </tr>\n",
       "  </thead>\n",
       "  <tbody>\n",
       "    <tr>\n",
       "      <th id=\"T_a7726_level0_row0\" class=\"row_heading level0 row0\" >0</th>\n",
       "      <td id=\"T_a7726_row0_col0\" class=\"data row0 col0\" >1.624345</td>\n",
       "      <td id=\"T_a7726_row0_col2\" class=\"data row0 col2\" >-0.528172</td>\n",
       "      <td id=\"T_a7726_row0_col4\" class=\"data row0 col4\" >0.865408</td>\n",
       "    </tr>\n",
       "    <tr>\n",
       "      <th id=\"T_a7726_level0_row2\" class=\"row_heading level0 row2\" >2</th>\n",
       "      <td id=\"T_a7726_row2_col0\" class=\"data row2 col0\" >1.462108</td>\n",
       "      <td id=\"T_a7726_row2_col2\" class=\"data row2 col2\" >-0.322417</td>\n",
       "      <td id=\"T_a7726_row2_col4\" class=\"data row2 col4\" >1.133769</td>\n",
       "    </tr>\n",
       "    <tr>\n",
       "      <th id=\"T_a7726_level0_row4\" class=\"row_heading level0 row4\" >4</th>\n",
       "      <td id=\"T_a7726_row4_col0\" class=\"data row4 col0\" >-1.100619</td>\n",
       "      <td id=\"T_a7726_row4_col2\" class=\"data row4 col2\" >0.901591</td>\n",
       "      <td id=\"T_a7726_row4_col4\" class=\"data row4 col4\" >0.900856</td>\n",
       "    </tr>\n",
       "  </tbody>\n",
       "</table>\n"
      ],
      "text/plain": [
       "<pandas.io.formats.style.Styler at 0x2415f52fd30>"
      ]
     },
     "execution_count": 4,
     "metadata": {},
     "output_type": "execute_result"
    }
   ],
   "source": [
    "# 需要显示的行列\n",
    "show = [0, 2, 4]\n",
    "df.style.hide(\n",
    "    [row for row in df.index if row not in show], axis=0 # 隐藏show列表之外的行\n",
    ").hide(\n",
    "    [col for col in df.columns if col not in show], axis=1 # 隐藏show列表之外的列\n",
    ")"
   ]
  }
 ],
 "metadata": {
  "kernelspec": {
   "display_name": "Python 3 (ipykernel)",
   "language": "python",
   "name": "python3"
  },
  "language_info": {
   "codemirror_mode": {
    "name": "ipython",
    "version": 3
   },
   "file_extension": ".py",
   "mimetype": "text/x-python",
   "name": "python",
   "nbconvert_exporter": "python",
   "pygments_lexer": "ipython3",
   "version": "3.10.10"
  }
 },
 "nbformat": 4,
 "nbformat_minor": 5
}
