{
 "cells": [
  {
   "cell_type": "code",
   "execution_count": null,
   "id": "a47a801b-a6e9-42a5-a909-dd99cdcf99b9",
   "metadata": {},
   "outputs": [],
   "source": []
  }
 ],
 "metadata": {
  "kernelspec": {
   "display_name": "Python 3 (ipykernel)",
   "language": "python",
   "name": "python3"
  },
  "language_info": {
   "name": ""
  }
 },
 "nbformat": 4,
 "nbformat_minor": 5
}
