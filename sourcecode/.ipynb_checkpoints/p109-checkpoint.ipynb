{
 "cells": [
  {
   "cell_type": "code",
   "execution_count": null,
   "id": "fe5e6bf1-1298-4ae6-a549-c0e263a06838",
   "metadata": {},
   "outputs": [],
   "source": []
  }
 ],
 "metadata": {
  "kernelspec": {
   "display_name": "Python 3 (ipykernel)",
   "language": "python",
   "name": "python3"
  },
  "language_info": {
   "name": ""
  }
 },
 "nbformat": 4,
 "nbformat_minor": 5
}
