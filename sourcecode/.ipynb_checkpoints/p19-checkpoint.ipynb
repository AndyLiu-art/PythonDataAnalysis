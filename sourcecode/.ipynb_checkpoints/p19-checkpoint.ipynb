{
 "cells": [
  {
   "cell_type": "markdown",
   "id": "b6650900-e436-45fb-a0bc-e3b181da1e35",
   "metadata": {
    "tags": []
   },
   "source": [
    "### 以openml中的数据集CSM为例，从数据集中无放回地随机抽取50个样本，计算评分Ratings的平均值。"
   ]
  },
  {
   "cell_type": "code",
   "execution_count": 1,
   "id": "bb17082b-b5c4-4157-856c-66665ecdf30e",
   "metadata": {
    "tags": []
   },
   "outputs": [],
   "source": [
    "# 导入数据集获取工具\n",
    "from sklearn.datasets import fetch_openml\n",
    "# 导入数据分析库\n",
    "import pandas as pd"
   ]
  },
  {
   "cell_type": "code",
   "execution_count": 2,
   "id": "85183057-0124-4430-b903-f333c3dc0e70",
   "metadata": {
    "tags": []
   },
   "outputs": [],
   "source": [
    "# 获取数据\n",
    "data = fetch_openml(\n",
    "    data_id=42371,\n",
    "    as_frame=True,\n",
    "    parser=\"pandas\"\n",
    ")[\"frame\"]"
   ]
  },
  {
   "cell_type": "code",
   "execution_count": 3,
   "id": "b846fb22-664b-4bf1-88f1-ad3cbf6bfaa5",
   "metadata": {
    "tags": []
   },
   "outputs": [
    {
     "data": {
      "text/html": [
       "<div>\n",
       "<style scoped>\n",
       "    .dataframe tbody tr th:only-of-type {\n",
       "        vertical-align: middle;\n",
       "    }\n",
       "\n",
       "    .dataframe tbody tr th {\n",
       "        vertical-align: top;\n",
       "    }\n",
       "\n",
       "    .dataframe thead th {\n",
       "        text-align: right;\n",
       "    }\n",
       "</style>\n",
       "<table border=\"1\" class=\"dataframe\">\n",
       "  <thead>\n",
       "    <tr style=\"text-align: right;\">\n",
       "      <th></th>\n",
       "      <th>Year</th>\n",
       "      <th>Ratings</th>\n",
       "      <th>Genre</th>\n",
       "      <th>Gross</th>\n",
       "      <th>Budget</th>\n",
       "      <th>Screens</th>\n",
       "      <th>Sequel</th>\n",
       "      <th>Sentiment</th>\n",
       "      <th>Views</th>\n",
       "      <th>Likes</th>\n",
       "      <th>Dislikes</th>\n",
       "      <th>Comments</th>\n",
       "      <th>Aggregate.Followers</th>\n",
       "    </tr>\n",
       "  </thead>\n",
       "  <tbody>\n",
       "    <tr>\n",
       "      <th>0</th>\n",
       "      <td>2014</td>\n",
       "      <td>6.3</td>\n",
       "      <td>8</td>\n",
       "      <td>9130</td>\n",
       "      <td>4000000.0</td>\n",
       "      <td>45.0</td>\n",
       "      <td>1</td>\n",
       "      <td>0</td>\n",
       "      <td>3280543</td>\n",
       "      <td>4632</td>\n",
       "      <td>425</td>\n",
       "      <td>636</td>\n",
       "      <td>1120000.0</td>\n",
       "    </tr>\n",
       "    <tr>\n",
       "      <th>1</th>\n",
       "      <td>2014</td>\n",
       "      <td>7.1</td>\n",
       "      <td>1</td>\n",
       "      <td>192000000</td>\n",
       "      <td>50000000.0</td>\n",
       "      <td>3306.0</td>\n",
       "      <td>2</td>\n",
       "      <td>2</td>\n",
       "      <td>583289</td>\n",
       "      <td>3465</td>\n",
       "      <td>61</td>\n",
       "      <td>186</td>\n",
       "      <td>12350000.0</td>\n",
       "    </tr>\n",
       "    <tr>\n",
       "      <th>2</th>\n",
       "      <td>2014</td>\n",
       "      <td>6.2</td>\n",
       "      <td>1</td>\n",
       "      <td>30700000</td>\n",
       "      <td>28000000.0</td>\n",
       "      <td>2872.0</td>\n",
       "      <td>1</td>\n",
       "      <td>0</td>\n",
       "      <td>304861</td>\n",
       "      <td>328</td>\n",
       "      <td>34</td>\n",
       "      <td>47</td>\n",
       "      <td>483000.0</td>\n",
       "    </tr>\n",
       "    <tr>\n",
       "      <th>3</th>\n",
       "      <td>2014</td>\n",
       "      <td>6.3</td>\n",
       "      <td>1</td>\n",
       "      <td>106000000</td>\n",
       "      <td>110000000.0</td>\n",
       "      <td>3470.0</td>\n",
       "      <td>2</td>\n",
       "      <td>0</td>\n",
       "      <td>452917</td>\n",
       "      <td>2429</td>\n",
       "      <td>132</td>\n",
       "      <td>590</td>\n",
       "      <td>568000.0</td>\n",
       "    </tr>\n",
       "    <tr>\n",
       "      <th>4</th>\n",
       "      <td>2014</td>\n",
       "      <td>4.7</td>\n",
       "      <td>8</td>\n",
       "      <td>17300000</td>\n",
       "      <td>3500000.0</td>\n",
       "      <td>2310.0</td>\n",
       "      <td>2</td>\n",
       "      <td>0</td>\n",
       "      <td>3145573</td>\n",
       "      <td>12163</td>\n",
       "      <td>610</td>\n",
       "      <td>1082</td>\n",
       "      <td>1923800.0</td>\n",
       "    </tr>\n",
       "  </tbody>\n",
       "</table>\n",
       "</div>"
      ],
      "text/plain": [
       "   Year  Ratings  Genre      Gross       Budget  Screens  Sequel  Sentiment  \\\n",
       "0  2014      6.3      8       9130    4000000.0     45.0       1          0   \n",
       "1  2014      7.1      1  192000000   50000000.0   3306.0       2          2   \n",
       "2  2014      6.2      1   30700000   28000000.0   2872.0       1          0   \n",
       "3  2014      6.3      1  106000000  110000000.0   3470.0       2          0   \n",
       "4  2014      4.7      8   17300000    3500000.0   2310.0       2          0   \n",
       "\n",
       "     Views  Likes  Dislikes  Comments  Aggregate.Followers  \n",
       "0  3280543   4632       425       636            1120000.0  \n",
       "1   583289   3465        61       186           12350000.0  \n",
       "2   304861    328        34        47             483000.0  \n",
       "3   452917   2429       132       590             568000.0  \n",
       "4  3145573  12163       610      1082            1923800.0  "
      ]
     },
     "execution_count": 3,
     "metadata": {},
     "output_type": "execute_result"
    }
   ],
   "source": [
    "# 查看数据集的前五行\n",
    "data.head()"
   ]
  },
  {
   "cell_type": "code",
   "execution_count": 4,
   "id": "97f0e9c3-90e9-48ce-9ef1-0f35a237ab95",
   "metadata": {
    "tags": []
   },
   "outputs": [
    {
     "data": {
      "text/plain": [
       "6.534"
      ]
     },
     "execution_count": 4,
     "metadata": {},
     "output_type": "execute_result"
    }
   ],
   "source": [
    "# 随机抽样平均值\n",
    "data[\"Ratings\"].sample(n=50, replace=False).mean()"
   ]
  }
 ],
 "metadata": {
  "kernelspec": {
   "display_name": "Python 3 (ipykernel)",
   "language": "python",
   "name": "python3"
  },
  "language_info": {
   "codemirror_mode": {
    "name": "ipython",
    "version": 3
   },
   "file_extension": ".py",
   "mimetype": "text/x-python",
   "name": "python",
   "nbconvert_exporter": "python",
   "pygments_lexer": "ipython3",
   "version": "3.10.10"
  }
 },
 "nbformat": 4,
 "nbformat_minor": 5
}
