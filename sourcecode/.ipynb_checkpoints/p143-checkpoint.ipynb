{
 "cells": [
  {
   "cell_type": "markdown",
   "id": "7b4addd2-dc83-4038-a6db-1ec70a10990d",
   "metadata": {},
   "source": [
    "### 计算DataFrame每一列的均值，对于for循环和apply方法，改变列数"
   ]
  },
  {
   "cell_type": "code",
   "execution_count": 1,
   "id": "c191ecf2-e01e-4b1c-ba95-4f9cb8e4b8f1",
   "metadata": {
    "tags": []
   },
   "outputs": [],
   "source": [
    "# 导入数据分析库\n",
    "import pandas as pd\n",
    "# 导入基础计算库\n",
    "import numpy as np"
   ]
  },
  {
   "cell_type": "code",
   "execution_count": 2,
   "id": "e3bb0c0c-36ad-4f05-b10a-880118732811",
   "metadata": {
    "tags": []
   },
   "outputs": [],
   "source": [
    "def generate_data(row, col):\n",
    "    np.random.seed(1)\n",
    "    df = pd.DataFrame(np.random.randn(row, col))\n",
    "    return df"
   ]
  },
  {
   "cell_type": "code",
   "execution_count": 3,
   "id": "88040022-f8a6-46e3-b818-29a12c58a19f",
   "metadata": {
    "tags": []
   },
   "outputs": [],
   "source": [
    "df = generate_data(10, 20)"
   ]
  },
  {
   "cell_type": "code",
   "execution_count": 4,
   "id": "155efb3e-310e-401a-8400-75537d4606c8",
   "metadata": {
    "tags": []
   },
   "outputs": [
    {
     "name": "stdout",
     "output_type": "stream",
     "text": [
      "720 µs ± 13.2 µs per loop (mean ± std. dev. of 7 runs, 1,000 loops each)\n"
     ]
    }
   ],
   "source": [
    "%%timeit\n",
    "df.apply(\"mean\", axis=0)"
   ]
  },
  {
   "cell_type": "code",
   "execution_count": 5,
   "id": "95747bf5-5339-48c0-b412-4b84efaea34e",
   "metadata": {
    "tags": []
   },
   "outputs": [
    {
     "name": "stdout",
     "output_type": "stream",
     "text": [
      "5.38 ms ± 283 µs per loop (mean ± std. dev. of 7 runs, 100 loops each)\n"
     ]
    }
   ],
   "source": [
    "%%timeit\n",
    "# 存储结果的列表\n",
    "lst = []\n",
    "for i in range(df.shape[1]):\n",
    "    lst.append(np.mean(df.iloc[:, i]))"
   ]
  },
  {
   "cell_type": "code",
   "execution_count": 6,
   "id": "da39e91c-084e-4dc1-b54b-17037d0d730b",
   "metadata": {
    "tags": []
   },
   "outputs": [],
   "source": [
    "df = generate_data(10, 200)"
   ]
  },
  {
   "cell_type": "code",
   "execution_count": 7,
   "id": "0b1325ae-4ac5-4493-b90c-27033b73aa36",
   "metadata": {
    "tags": []
   },
   "outputs": [
    {
     "name": "stdout",
     "output_type": "stream",
     "text": [
      "768 µs ± 23 µs per loop (mean ± std. dev. of 7 runs, 1,000 loops each)\n"
     ]
    }
   ],
   "source": [
    "%%timeit\n",
    "df.apply(\"mean\", axis=0)"
   ]
  },
  {
   "cell_type": "code",
   "execution_count": 8,
   "id": "1cdbf9e1-8a1c-416d-b522-615ce82cf4cb",
   "metadata": {
    "tags": []
   },
   "outputs": [
    {
     "name": "stdout",
     "output_type": "stream",
     "text": [
      "52.3 ms ± 1.87 ms per loop (mean ± std. dev. of 7 runs, 10 loops each)\n"
     ]
    }
   ],
   "source": [
    "%%timeit\n",
    "# 存储结果的列表\n",
    "lst = []\n",
    "for i in range(df.shape[1]):\n",
    "    lst.append(np.mean(df.iloc[:, i]))"
   ]
  },
  {
   "cell_type": "code",
   "execution_count": 9,
   "id": "cad1e0a8-187f-4013-b01d-a7bef396b9b5",
   "metadata": {
    "tags": []
   },
   "outputs": [],
   "source": [
    "df = generate_data(10, 2000)"
   ]
  },
  {
   "cell_type": "code",
   "execution_count": 10,
   "id": "3af5bc9a-7d24-4495-859c-d236f4021a69",
   "metadata": {
    "tags": []
   },
   "outputs": [
    {
     "name": "stdout",
     "output_type": "stream",
     "text": [
      "953 µs ± 25.3 µs per loop (mean ± std. dev. of 7 runs, 1,000 loops each)\n"
     ]
    }
   ],
   "source": [
    "%%timeit\n",
    "df.apply(\"mean\", axis=0)"
   ]
  },
  {
   "cell_type": "code",
   "execution_count": 11,
   "id": "264bbfbe-d0b7-4fc2-a770-46bf367b3616",
   "metadata": {
    "tags": []
   },
   "outputs": [
    {
     "name": "stdout",
     "output_type": "stream",
     "text": [
      "571 ms ± 33.3 ms per loop (mean ± std. dev. of 7 runs, 1 loop each)\n"
     ]
    }
   ],
   "source": [
    "%%timeit\n",
    "# 存储结果的列表\n",
    "lst = []\n",
    "for i in range(df.shape[1]):\n",
    "    lst.append(np.mean(df.iloc[:, i]))"
   ]
  },
  {
   "cell_type": "code",
   "execution_count": 12,
   "id": "93778a3a-570a-4f7a-a7b8-b28ae55e8221",
   "metadata": {
    "tags": []
   },
   "outputs": [],
   "source": [
    "df = generate_data(10, 20000)"
   ]
  },
  {
   "cell_type": "code",
   "execution_count": 13,
   "id": "8af6fb4d-903e-4509-ad16-757bac428370",
   "metadata": {
    "tags": []
   },
   "outputs": [
    {
     "name": "stdout",
     "output_type": "stream",
     "text": [
      "3.45 ms ± 128 µs per loop (mean ± std. dev. of 7 runs, 100 loops each)\n"
     ]
    }
   ],
   "source": [
    "%%timeit\n",
    "df.apply(\"mean\", axis=0)"
   ]
  },
  {
   "cell_type": "code",
   "execution_count": 14,
   "id": "fcad78de-4ced-4dde-ba51-f67a3b152bd8",
   "metadata": {
    "tags": []
   },
   "outputs": [
    {
     "name": "stdout",
     "output_type": "stream",
     "text": [
      "5.23 s ± 93.1 ms per loop (mean ± std. dev. of 7 runs, 1 loop each)\n"
     ]
    }
   ],
   "source": [
    "%%timeit\n",
    "# 存储结果的列表\n",
    "lst = []\n",
    "for i in range(df.shape[1]):\n",
    "    lst.append(np.mean(df.iloc[:, i]))"
   ]
  },
  {
   "cell_type": "code",
   "execution_count": 15,
   "id": "0e279f31-f62e-413d-925e-a5fea504ad5f",
   "metadata": {
    "tags": []
   },
   "outputs": [],
   "source": [
    "df = generate_data(10, 200000)"
   ]
  },
  {
   "cell_type": "code",
   "execution_count": 16,
   "id": "1b91ec3a-fa00-4f5a-8993-60919b8ae786",
   "metadata": {
    "tags": []
   },
   "outputs": [
    {
     "name": "stdout",
     "output_type": "stream",
     "text": [
      "30.5 ms ± 818 µs per loop (mean ± std. dev. of 7 runs, 10 loops each)\n"
     ]
    }
   ],
   "source": [
    "%%timeit\n",
    "df.apply(\"mean\", axis=0)"
   ]
  },
  {
   "cell_type": "code",
   "execution_count": 17,
   "id": "e04b0cee-f080-4dc3-a6af-f54daadb8585",
   "metadata": {
    "tags": []
   },
   "outputs": [
    {
     "name": "stdout",
     "output_type": "stream",
     "text": [
      "60.3 ms ± 915 µs per loop (mean ± std. dev. of 7 runs, 10 loops each)\n"
     ]
    }
   ],
   "source": [
    "%%timeit\n",
    "# 存储结果的列表\n",
    "lst = []\n",
    "for i in range(df.shape[1]):\n",
    "    lst.append(np.mean(df.iloc[:, i]))"
   ]
  },
  {
   "cell_type": "markdown",
   "id": "869f69c9-c095-46d2-a9f4-a5de9b41a3ff",
   "metadata": {},
   "source": [
    "apply方法完胜for循环"
   ]
  }
 ],
 "metadata": {
  "kernelspec": {
   "display_name": "Python 3 (ipykernel)",
   "language": "python",
   "name": "python3"
  },
  "language_info": {
   "codemirror_mode": {
    "name": "ipython",
    "version": 3
   },
   "file_extension": ".py",
   "mimetype": "text/x-python",
   "name": "python",
   "nbconvert_exporter": "python",
   "pygments_lexer": "ipython3",
   "version": "3.10.10"
  }
 },
 "nbformat": 4,
 "nbformat_minor": 5
}
