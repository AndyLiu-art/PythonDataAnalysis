{
 "cells": [
  {
   "cell_type": "code",
   "execution_count": null,
   "id": "76b76c81-1209-4efb-a472-e0736f3a14e8",
   "metadata": {},
   "outputs": [],
   "source": []
  }
 ],
 "metadata": {
  "kernelspec": {
   "display_name": "Python 3 (ipykernel)",
   "language": "python",
   "name": "python3"
  },
  "language_info": {
   "name": ""
  }
 },
 "nbformat": 4,
 "nbformat_minor": 5
}
