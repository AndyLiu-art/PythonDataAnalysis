{
 "cells": [
  {
   "cell_type": "code",
   "execution_count": null,
   "id": "a8ec4309-0fda-413e-a4e3-2263f5bd7326",
   "metadata": {},
   "outputs": [],
   "source": []
  }
 ],
 "metadata": {
  "kernelspec": {
   "display_name": "Python 3 (ipykernel)",
   "language": "python",
   "name": "python3"
  },
  "language_info": {
   "name": ""
  }
 },
 "nbformat": 4,
 "nbformat_minor": 5
}
