{
 "cells": [
  {
   "cell_type": "code",
   "execution_count": null,
   "id": "a693fb67-1653-4e55-bc2d-610457e9ac25",
   "metadata": {},
   "outputs": [],
   "source": []
  }
 ],
 "metadata": {
  "kernelspec": {
   "display_name": "Python 3 (ipykernel)",
   "language": "python",
   "name": "python3"
  },
  "language_info": {
   "name": ""
  }
 },
 "nbformat": 4,
 "nbformat_minor": 5
}
