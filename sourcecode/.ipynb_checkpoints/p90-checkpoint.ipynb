{
 "cells": [
  {
   "cell_type": "markdown",
   "id": "8cdb4e93-7210-4d1a-9c2f-1d77683747ad",
   "metadata": {},
   "source": [
    "### 调整数据的显示精度"
   ]
  },
  {
   "cell_type": "code",
   "execution_count": 1,
   "id": "c75b4432-dbbd-448e-a0c8-284562b97308",
   "metadata": {
    "tags": []
   },
   "outputs": [],
   "source": [
    "# 导入基础计算库\n",
    "import numpy as np\n",
    "# 导入数据分析库\n",
    "import pandas as pd\n",
    "# 导入matplotlib包\n",
    "import matplotlib as mpl"
   ]
  },
  {
   "cell_type": "code",
   "execution_count": 2,
   "id": "3619d1aa-8bfb-4a8e-9c3d-1e0c2f2dc23f",
   "metadata": {
    "tags": []
   },
   "outputs": [
    {
     "data": {
      "text/html": [
       "<div>\n",
       "<style scoped>\n",
       "    .dataframe tbody tr th:only-of-type {\n",
       "        vertical-align: middle;\n",
       "    }\n",
       "\n",
       "    .dataframe tbody tr th {\n",
       "        vertical-align: top;\n",
       "    }\n",
       "\n",
       "    .dataframe thead th {\n",
       "        text-align: right;\n",
       "    }\n",
       "</style>\n",
       "<table border=\"1\" class=\"dataframe\">\n",
       "  <thead>\n",
       "    <tr style=\"text-align: right;\">\n",
       "      <th></th>\n",
       "      <th>strings</th>\n",
       "      <th>ints</th>\n",
       "      <th>floats</th>\n",
       "    </tr>\n",
       "  </thead>\n",
       "  <tbody>\n",
       "    <tr>\n",
       "      <th>0</th>\n",
       "      <td>Adam</td>\n",
       "      <td>1</td>\n",
       "      <td>1.123</td>\n",
       "    </tr>\n",
       "    <tr>\n",
       "      <th>1</th>\n",
       "      <td>Mike</td>\n",
       "      <td>3</td>\n",
       "      <td>1000.230</td>\n",
       "    </tr>\n",
       "  </tbody>\n",
       "</table>\n",
       "</div>"
      ],
      "text/plain": [
       "  strings  ints    floats\n",
       "0    Adam     1     1.123\n",
       "1    Mike     3  1000.230"
      ]
     },
     "execution_count": 2,
     "metadata": {},
     "output_type": "execute_result"
    }
   ],
   "source": [
    "# 生成数据\n",
    "df = pd.DataFrame({\n",
    "    \"strings\": [\"Adam\", \"Mike\"],\n",
    "    \"ints\": [1, 3],\n",
    "    \"floats\": [1.123, 1000.23]\n",
    "})\n",
    "df.head()"
   ]
  },
  {
   "cell_type": "code",
   "execution_count": 3,
   "id": "c182270c-a078-473d-ba20-81df4062fd05",
   "metadata": {
    "tags": []
   },
   "outputs": [
    {
     "data": {
      "text/html": [
       "<style type=\"text/css\">\n",
       "</style>\n",
       "<table id=\"T_a71e5\">\n",
       "  <thead>\n",
       "    <tr>\n",
       "      <th class=\"blank level0\" >&nbsp;</th>\n",
       "      <th id=\"T_a71e5_level0_col0\" class=\"col_heading level0 col0\" >STRINGS</th>\n",
       "      <th id=\"T_a71e5_level0_col1\" class=\"col_heading level0 col1\" >INTS</th>\n",
       "      <th id=\"T_a71e5_level0_col2\" class=\"col_heading level0 col2\" >FLOATS</th>\n",
       "    </tr>\n",
       "  </thead>\n",
       "  <tbody>\n",
       "    <tr>\n",
       "      <th id=\"T_a71e5_level0_row0\" class=\"row_heading level0 row0\" >row 1</th>\n",
       "      <td id=\"T_a71e5_row0_col0\" class=\"data row0 col0\" >Adam</td>\n",
       "      <td id=\"T_a71e5_row0_col1\" class=\"data row0 col1\" >1</td>\n",
       "      <td id=\"T_a71e5_row0_col2\" class=\"data row0 col2\" >1,123</td>\n",
       "    </tr>\n",
       "    <tr>\n",
       "      <th id=\"T_a71e5_level0_row1\" class=\"row_heading level0 row1\" >row 2</th>\n",
       "      <td id=\"T_a71e5_row1_col0\" class=\"data row1 col0\" >Mike</td>\n",
       "      <td id=\"T_a71e5_row1_col1\" class=\"data row1 col1\" >3</td>\n",
       "      <td id=\"T_a71e5_row1_col2\" class=\"data row1 col2\" >1.000,230</td>\n",
       "    </tr>\n",
       "  </tbody>\n",
       "</table>\n"
      ],
      "text/plain": [
       "<pandas.io.formats.style.Styler at 0x20649a5e5f0>"
      ]
     },
     "execution_count": 3,
     "metadata": {},
     "output_type": "execute_result"
    }
   ],
   "source": [
    "# 格式化输出\n",
    "df.style.format(\n",
    "    precision=3, thousands=\".\", decimal=\",\" # 将千分位的点替换为,\n",
    ").format_index(\n",
    "    str.upper, axis=1 # 将列名全部大写\n",
    ").relabel_index(\n",
    "    [\"row 1\", \"row 2\"], axis=0 # 修改行名\n",
    ")"
   ]
  }
 ],
 "metadata": {
  "kernelspec": {
   "display_name": "Python 3 (ipykernel)",
   "language": "python",
   "name": "python3"
  },
  "language_info": {
   "codemirror_mode": {
    "name": "ipython",
    "version": 3
   },
   "file_extension": ".py",
   "mimetype": "text/x-python",
   "name": "python",
   "nbconvert_exporter": "python",
   "pygments_lexer": "ipython3",
   "version": "3.10.10"
  }
 },
 "nbformat": 4,
 "nbformat_minor": 5
}
