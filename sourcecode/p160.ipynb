{
 "cells": [
  {
   "cell_type": "markdown",
   "id": "ea9d6cee-077f-4002-9e0b-cd43df9e27c0",
   "metadata": {},
   "source": [
    "### 将时间戳转为秒数(毫秒，纳秒，微秒)"
   ]
  },
  {
   "cell_type": "markdown",
   "id": "a4cc7f58-1a2c-4e6c-ba94-4782bc952e67",
   "metadata": {},
   "source": [
    "这些秒是从origin参数指定的时间计算的，默认是1970年1月1日零时"
   ]
  },
  {
   "cell_type": "code",
   "execution_count": 1,
   "id": "3de68a1d-b601-40e0-adfa-e71326f1ded8",
   "metadata": {
    "tags": []
   },
   "outputs": [],
   "source": [
    "import numpy as np\n",
    "import pandas as pd"
   ]
  },
  {
   "cell_type": "code",
   "execution_count": 2,
   "id": "158fbd06-a4e8-4011-913d-eaaf8e7d9bc1",
   "metadata": {
    "tags": []
   },
   "outputs": [
    {
     "data": {
      "text/plain": [
       "DatetimeIndex(['2012-10-08 18:15:05', '2012-10-09 18:15:05',\n",
       "               '2012-10-10 18:15:05', '2012-10-11 18:15:05'],\n",
       "              dtype='datetime64[ns]', freq='D')"
      ]
     },
     "execution_count": 2,
     "metadata": {},
     "output_type": "execute_result"
    }
   ],
   "source": [
    "stamps = pd.date_range(\"2012-10-08 18:15:05\", periods=4, freq=\"D\")\n",
    "stamps"
   ]
  },
  {
   "cell_type": "code",
   "execution_count": 3,
   "id": "16b9189e-b497-416c-9f8b-c0721d06db48",
   "metadata": {
    "tags": []
   },
   "outputs": [
    {
     "data": {
      "text/plain": [
       "Int64Index([1349720105, 1349806505, 1349892905, 1349979305], dtype='int64')"
      ]
     },
     "execution_count": 3,
     "metadata": {},
     "output_type": "execute_result"
    }
   ],
   "source": [
    "(stamps - pd.Timestamp(\"1970-01-01\")) // pd.Timedelta(\"1s\")"
   ]
  }
 ],
 "metadata": {
  "kernelspec": {
   "display_name": "Python 3 (ipykernel)",
   "language": "python",
   "name": "python3"
  },
  "language_info": {
   "codemirror_mode": {
    "name": "ipython",
    "version": 3
   },
   "file_extension": ".py",
   "mimetype": "text/x-python",
   "name": "python",
   "nbconvert_exporter": "python",
   "pygments_lexer": "ipython3",
   "version": "3.10.10"
  }
 },
 "nbformat": 4,
 "nbformat_minor": 5
}
